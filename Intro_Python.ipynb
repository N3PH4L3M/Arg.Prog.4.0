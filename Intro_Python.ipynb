{
  "nbformat": 4,
  "nbformat_minor": 0,
  "metadata": {
    "colab": {
      "provenance": [],
      "include_colab_link": true
    },
    "kernelspec": {
      "name": "python3",
      "display_name": "Python 3"
    },
    "language_info": {
      "name": "python"
    }
  },
  "cells": [
    {
      "cell_type": "markdown",
      "metadata": {
        "id": "view-in-github",
        "colab_type": "text"
      },
      "source": [
        "<a href=\"https://colab.research.google.com/github/N3PH4L3M/Arg.Prog.4.0/blob/main/Intro_Python.ipynb\" target=\"_parent\"><img src=\"https://colab.research.google.com/assets/colab-badge.svg\" alt=\"Open In Colab\"/></a>"
      ]
    },
    {
      "cell_type": "markdown",
      "source": [
        "# **Introducción a Python**\n",
        "\n",
        "* Python es un lenguaje de programación de alto nivel interpretado.\n",
        "* Potente y fácil de aprender.\n",
        "* Es multiparadigma: acepta los modelos de la programación estructurada y de la programación orientado a objetos.\n",
        "* Tiene tipado dinámico.\n",
        "* Posee una extensa librería estándar en constante crecimiento.\n",
        "* El intérprete y las librerías estándar se pueden distribuir libremente.\n",
        "\n",
        "\n",
        "\n"
      ],
      "metadata": {
        "id": "AgW4yQ_Xs76a"
      }
    },
    {
      "cell_type": "markdown",
      "source": [
        "# Palabras reservadas en Python\n",
        "\n",
        "Las palabras reservadas (Keywords) se utilizan para definir la sintaxis y la estructura del lenguaje Python.\n",
        "En Python, las palabras reservadas son case-sensitive, es decir, distinguen entre mayúsculas y minúsculas.\n",
        "Todas las palabras reservadas, excepto True, False y None, están en minúsculas y deben escribirse de esa manera. La lista de todas las palabras reservadas o clave se muestra a continuación:"
      ],
      "metadata": {
        "id": "QJDzIghftUQf"
      }
    },
    {
      "cell_type": "code",
      "source": [],
      "metadata": {
        "id": "hpLSA6ErjscT"
      },
      "execution_count": null,
      "outputs": []
    },
    {
      "cell_type": "code",
      "execution_count": null,
      "metadata": {
        "id": "LxfG-MDps7J-"
      },
      "outputs": [],
      "source": [
        "False      await      else       import     pass\n",
        "None       break      except     in         raise\n",
        "True       class      finally    is         return\n",
        "and        continue   for        lambda     try\n",
        "as         def        from       nonlocal   while\n",
        "assert     del        global     not        with\n",
        "async      elif       if         or         yield\n"
      ]
    },
    {
      "cell_type": "markdown",
      "source": [
        "# Identificadores en Python\n",
        "\n",
        "Un identificador es el nombre que se le da a entidades como clases, funciones, variables, etc. Ayuda a diferenciar una entidad de otra.\n",
        "\n",
        "*Reglas para escribir identificadores:*\n",
        "\n",
        "\n",
        "*   Los identificadores pueden ser una combinación de letras en minúsculas (a-z) o \n",
        "mayúsculas (A-Z) o dígitos (0-9) o un guión bajo ( _ ). Nombres como myClass, var_1, mostrar_pantalla, son ejemplos válidos.\n",
        "*   Un identificador no puede comenzar con un dígito: 1variable no es un identificador válido, pero variable1 si lo es.\n",
        "*   Las Keywords no se pueden utilizar como identificadores.\n",
        "*   No podemos usar símbolos especiales como: !, @, #, $,% en nuestro identificador\n",
        "*   Un identificador puede tener cualquier longitud."
      ],
      "metadata": {
        "id": "RMDzKbdWuiGm"
      }
    },
    {
      "cell_type": "code",
      "source": [
        "number = 8 #number es un identificador válido del valor numérico 5.\n",
        "number"
      ],
      "metadata": {
        "id": "vlX71f7Dvn5G",
        "colab": {
          "base_uri": "https://localhost:8080/"
        },
        "outputId": "b0c62094-c6c9-499e-e991-3a912fa9b5ee"
      },
      "execution_count": null,
      "outputs": [
        {
          "output_type": "execute_result",
          "data": {
            "text/plain": [
              "8"
            ]
          },
          "metadata": {},
          "execution_count": 1
        }
      ]
    },
    {
      "cell_type": "markdown",
      "source": [
        "Python es un lenguaje **case-sensitive**, distingue entre mayúsculas y minúsculas. Esto significa que *Variable* y *variable* no son lo mismo.\n",
        "Siempre dé a los identificadores un nombre que tenga sentido. Si bien *s* = 10 es un nombre válido, escribir *saldo* = 10 tendría más sentido y sería más fácil averiguar qué representa cuando mira su código después de un largo espacio de tiempo.\n",
        "Se pueden separar varias palabras con un guión bajo, como *sueldo_personal_administrativo*.\n",
        "\n",
        "En el ejemplo anterior hay texto en verde que corresponde a los comentarios, todo texto que consigne a continuación del \"#\" no será interpretado."
      ],
      "metadata": {
        "id": "cVUlvMU1wDTn"
      }
    },
    {
      "cell_type": "markdown",
      "source": [
        "# Variables en Python\n",
        "\n",
        "Una variable es una ubicación con nombre que se utiliza para almacenar datos en la memoria. Es útil pensar en las variables como un contenedor que posee datos que se pueden cambiar más adelante en el transcurso de un programa.\n",
        "Ejemplo: number = 5  #la variable identificada como number contiene en memoria al valor 5.\n",
        "\n",
        "El valor contenido en una variable puede ser reemplazado por otro en cualquier instancia del programa.\n",
        "Ejemplo: number = 5\n",
        "   number = 10 # el valor 5 de la variable number fue reemplazado por el valor 10 la línea siguiente. \n",
        "\n",
        "Para darle un contenido a una variable se emplea el operador de asignación “=”.\n",
        "\n",
        "Puede asignar múltiples valores a múltiples variables.\n",
        "Ejemplo: a, b, c = 1, 2.5, ‘A’  #El valor 1 se asigna a la variable a; el valor 2.5 se asigna a la variable b y el valor ‘A’ se asigna a la variable c. \n",
        "\n",
        "Puede asignar un único valor a múltiples variables.\n",
        "Ejemplo: a, b, c = 5  #El valor 5 es asignado a las variables a, b y c por igual.\n"
      ],
      "metadata": {
        "id": "D79LQosnwG6e"
      }
    },
    {
      "cell_type": "code",
      "source": [
        "number = 5 #la variable identificada como number contiene en memoria al valor 5.\n",
        "number"
      ],
      "metadata": {
        "id": "z9YyYm2RxMPS",
        "colab": {
          "base_uri": "https://localhost:8080/"
        },
        "outputId": "74b9724f-2832-4c11-d418-05eec7b63700"
      },
      "execution_count": null,
      "outputs": [
        {
          "output_type": "execute_result",
          "data": {
            "text/plain": [
              "5"
            ]
          },
          "metadata": {},
          "execution_count": 1
        }
      ]
    },
    {
      "cell_type": "markdown",
      "source": [
        "El valor asociado a una variable puede ser reemplazado por otro en cualquier instancia del programa. "
      ],
      "metadata": {
        "id": "Q_B_gBqTxSkF"
      }
    },
    {
      "cell_type": "code",
      "source": [
        "number = 7\n",
        "print(number)\n",
        "number = 10 # el valor 5 de la variable number fue cambiado por el valor 10 la línea siguiente.\n",
        "number"
      ],
      "metadata": {
        "colab": {
          "base_uri": "https://localhost:8080/"
        },
        "id": "VCVQKXLPxYCg",
        "outputId": "37adcf23-8b5f-49c4-bc5c-8456cd2f47f2"
      },
      "execution_count": null,
      "outputs": [
        {
          "output_type": "stream",
          "name": "stdout",
          "text": [
            "7\n"
          ]
        },
        {
          "output_type": "execute_result",
          "data": {
            "text/plain": [
              "10"
            ]
          },
          "metadata": {},
          "execution_count": 1
        }
      ]
    },
    {
      "cell_type": "markdown",
      "source": [
        "Puede asignar múltiples valores a múltiples variables."
      ],
      "metadata": {
        "id": "HdIRv2tVxkQ-"
      }
    },
    {
      "cell_type": "code",
      "source": [
        "a, b, c = 1, 2.5, 'A' #El valor 1 se asigna a la variable a; el valor 2.5 se asigna a la variable b y el valor ‘A’ se asigna a la variable c.\n",
        "print(a) #Mostrar el valor almacenado en a\n",
        "print(b) #Mostrar el valor almacenado en b\n",
        "print(c) #Mostrar el valor almacenado en c"
      ],
      "metadata": {
        "colab": {
          "base_uri": "https://localhost:8080/"
        },
        "id": "oYSaK6Psxr8Y",
        "outputId": "4391cfbe-e37a-44bd-f195-edd62f3933c6"
      },
      "execution_count": null,
      "outputs": [
        {
          "output_type": "stream",
          "name": "stdout",
          "text": [
            "1\n",
            "2.5\n",
            "A\n"
          ]
        }
      ]
    },
    {
      "cell_type": "markdown",
      "source": [],
      "metadata": {
        "id": "sgtzDJIp0a9O"
      }
    },
    {
      "cell_type": "markdown",
      "source": [
        "# Tipos de datos básicos\n",
        "\n",
        "En Python podemos encontrar distintos tipos de datos con diferentes características y clasificaciones. Los tipos de datos básicos de Python son los numéricos (enteros, punto flotante y complejos), las cadenas de caracteres y los booleanos.\n",
        "\n",
        "**Tipos numéricos:**\n",
        "\n",
        "*   Enteros ( int ): comprende el conjunto de todos los números enteros, pero como dicho conjunto es infinito, en Python el conjunto está limitado por la capacidad de memoria disponible.\n",
        "Un número de tipo int se crea a partir de un literal que representa un número entero o bien como resultado de una expresión o una llamada a una función."
      ],
      "metadata": {
        "id": "4t0N6Dkx0BbB"
      }
    },
    {
      "cell_type": "code",
      "source": [
        "a = 5  # a es de tipo int y su valor es 5. \n",
        "a\n"
      ],
      "metadata": {
        "colab": {
          "base_uri": "https://localhost:8080/"
        },
        "id": "zVFIGwgx0jl1",
        "outputId": "ffcfa60c-e452-4e4e-a27f-2f8d4338c0e1"
      },
      "execution_count": null,
      "outputs": [
        {
          "output_type": "execute_result",
          "data": {
            "text/plain": [
              "5"
            ]
          },
          "metadata": {},
          "execution_count": 15
        }
      ]
    },
    {
      "cell_type": "code",
      "source": [
        "b = a + 5 # b es de tipo int y su valor es 10.\n",
        "b"
      ],
      "metadata": {
        "colab": {
          "base_uri": "https://localhost:8080/"
        },
        "id": "iEkeIKzJ0q_J",
        "outputId": "10ceb7c8-3d42-48b7-b839-509b04473de7"
      },
      "execution_count": null,
      "outputs": [
        {
          "output_type": "execute_result",
          "data": {
            "text/plain": [
              "10"
            ]
          },
          "metadata": {},
          "execution_count": 16
        }
      ]
    },
    {
      "cell_type": "markdown",
      "source": [
        "También podemos representar los números enteros en formato binario, octal o hexadecimal."
      ],
      "metadata": {
        "id": "0u4VKQB50z2p"
      }
    },
    {
      "cell_type": "code",
      "source": [
        "a = 555          #Valor entero\n",
        "print(a)\n",
        "a_bin = bin(a)   #Valor binario\n",
        "print(a_bin)\n",
        "a_oct = oct(a)   #Valor octal\n",
        "print(a_oct)\n",
        "a_hexa = hex(a)  #Valor hexadecimal\n",
        "print(a_hexa)"
      ],
      "metadata": {
        "colab": {
          "base_uri": "https://localhost:8080/"
        },
        "id": "l-wOiixo1LP5",
        "outputId": "1ebc4847-2f07-42f2-f447-1f22b3d94f95"
      },
      "execution_count": null,
      "outputs": [
        {
          "output_type": "stream",
          "name": "stdout",
          "text": [
            "555\n",
            "0b1000101011\n",
            "0o1053\n",
            "0x22b\n"
          ]
        }
      ]
    },
    {
      "cell_type": "markdown",
      "source": [
        "*   Flotantes ( float ): comprende el conjunto de todos los números reales, el cual \n",
        "es infinito, con una precisión de hasta 15 posiciones decimales.\n",
        "\n",
        "  Puede reducir la precisión de 15 decimales redondeando el valor flotante con la función *round(valor, cantidad_decimales)*."
      ],
      "metadata": {
        "id": "A0I_oGvF1yfo"
      }
    },
    {
      "cell_type": "code",
      "source": [
        "a = 5.4561      # a es de tipo float y su valor es 5.4561\n",
        "a"
      ],
      "metadata": {
        "colab": {
          "base_uri": "https://localhost:8080/"
        },
        "id": "0XwwblrJ2F1n",
        "outputId": "7596ecf1-1bd8-4bd0-8735-5f6cd370dce1"
      },
      "execution_count": null,
      "outputs": [
        {
          "output_type": "execute_result",
          "data": {
            "text/plain": [
              "5.4561"
            ]
          },
          "metadata": {},
          "execution_count": 20
        }
      ]
    },
    {
      "cell_type": "code",
      "source": [
        "b = 3.1231      # b es de tipo float y su valor es 3.1231 \n",
        "b"
      ],
      "metadata": {
        "colab": {
          "base_uri": "https://localhost:8080/"
        },
        "id": "QRPJI0gA2LNi",
        "outputId": "e9d831ca-5815-491b-81f7-2f1ab90177fa"
      },
      "execution_count": null,
      "outputs": [
        {
          "output_type": "execute_result",
          "data": {
            "text/plain": [
              "3.1231"
            ]
          },
          "metadata": {},
          "execution_count": 21
        }
      ]
    },
    {
      "cell_type": "code",
      "source": [
        "c = a + b         # c es de tipo float y su valor es 8.5792\n",
        "c"
      ],
      "metadata": {
        "colab": {
          "base_uri": "https://localhost:8080/"
        },
        "id": "0dMGFNUN2LVt",
        "outputId": "9cd3091f-266f-4fce-8e4d-aa0285d5a068"
      },
      "execution_count": null,
      "outputs": [
        {
          "output_type": "execute_result",
          "data": {
            "text/plain": [
              "8.5792"
            ]
          },
          "metadata": {},
          "execution_count": 22
        }
      ]
    },
    {
      "cell_type": "code",
      "source": [
        "d = round(c,2) # d es de tipo float y su valor es 8.58\n",
        "d"
      ],
      "metadata": {
        "colab": {
          "base_uri": "https://localhost:8080/"
        },
        "id": "oZJvfTH22LdR",
        "outputId": "ff51976e-721d-421c-f7b0-7b818e036ccf"
      },
      "execution_count": null,
      "outputs": [
        {
          "output_type": "execute_result",
          "data": {
            "text/plain": [
              "8.58"
            ]
          },
          "metadata": {},
          "execution_count": 23
        }
      ]
    },
    {
      "cell_type": "markdown",
      "source": [
        "*   Complejos ( complex ): los números complejos tienen una parte real y otra imaginaria y cada una de ellas se representa como un float.\n",
        "Para crear un número complejo, se sigue la siguiente estructura [parte_real] + [parte_imaginaria] j. Y se puede acceder a la parte real e imaginaria a través de los atributos real e imag."
      ],
      "metadata": {
        "id": "0Ezo5On72sOI"
      }
    },
    {
      "cell_type": "code",
      "source": [
        "complejo = complex(1,2)   # complejo es del tipo complex y su valor es 1+2j.\n",
        "complejo "
      ],
      "metadata": {
        "colab": {
          "base_uri": "https://localhost:8080/"
        },
        "id": "nI9m7yrO3N6M",
        "outputId": "4f00eced-fa4c-461c-b5d0-6b65314fdd60"
      },
      "execution_count": null,
      "outputs": [
        {
          "output_type": "execute_result",
          "data": {
            "text/plain": [
              "(1+2j)"
            ]
          },
          "metadata": {},
          "execution_count": 31
        }
      ]
    },
    {
      "cell_type": "code",
      "source": [
        "r = complejo.real  # r es de tipo float y su valor es 1.0 \n",
        "r"
      ],
      "metadata": {
        "colab": {
          "base_uri": "https://localhost:8080/"
        },
        "id": "COOXd7bz3R5e",
        "outputId": "32c5768d-7476-42e8-e876-4a1b59d87510"
      },
      "execution_count": null,
      "outputs": [
        {
          "output_type": "execute_result",
          "data": {
            "text/plain": [
              "1.0"
            ]
          },
          "metadata": {},
          "execution_count": 32
        }
      ]
    },
    {
      "cell_type": "code",
      "source": [
        "i = complejo.imag   # i es de tipo float y su valor es 2.0\n",
        "i"
      ],
      "metadata": {
        "colab": {
          "base_uri": "https://localhost:8080/"
        },
        "id": "WYX742Uy3R_8",
        "outputId": "8f2f30fa-35b8-414a-cc0a-ee3b538de80c"
      },
      "execution_count": null,
      "outputs": [
        {
          "output_type": "execute_result",
          "data": {
            "text/plain": [
              "2.0"
            ]
          },
          "metadata": {},
          "execution_count": 34
        }
      ]
    },
    {
      "cell_type": "markdown",
      "source": [
        "**Cadena de caracteres ( str )**  \n",
        "Es una secuencia inmutable de caracteres Unicode. Podemos usar comillas simples o dobles ( ‘ ’ ; “ ” ) para representar cadenas. Las cadenas de varias líneas se pueden denotar mediante comillas triples ( ' ' ' ; \" \" \" )."
      ],
      "metadata": {
        "id": "LSIBlYpg5fqB"
      }
    },
    {
      "cell_type": "code",
      "source": [
        "char = 'a'         # char es de tipo str y su valor es a.\n",
        "char"
      ],
      "metadata": {
        "colab": {
          "base_uri": "https://localhost:8080/",
          "height": 35
        },
        "id": "AOSPzZnN5ucu",
        "outputId": "c6894b6e-57a1-4e92-fb73-b16b20032123"
      },
      "execution_count": null,
      "outputs": [
        {
          "output_type": "execute_result",
          "data": {
            "application/vnd.google.colaboratory.intrinsic+json": {
              "type": "string"
            },
            "text/plain": [
              "'a'"
            ]
          },
          "metadata": {},
          "execution_count": 35
        }
      ]
    },
    {
      "cell_type": "code",
      "source": [
        "s1 = 'hola mundo'  # s2 es de tipo str y su valor es hola mundo.\n",
        "s1"
      ],
      "metadata": {
        "colab": {
          "base_uri": "https://localhost:8080/",
          "height": 35
        },
        "id": "ZEtUe0DO6FN6",
        "outputId": "a485f3c4-1565-47c6-af49-c483598a3c8e"
      },
      "execution_count": null,
      "outputs": [
        {
          "output_type": "execute_result",
          "data": {
            "application/vnd.google.colaboratory.intrinsic+json": {
              "type": "string"
            },
            "text/plain": [
              "'hola mundo'"
            ]
          },
          "metadata": {},
          "execution_count": 36
        }
      ]
    },
    {
      "cell_type": "code",
      "source": [
        "s2 = \"hola mundo\"  # s2 es de tipo str y su valor es hola mundo.\n",
        "s2"
      ],
      "metadata": {
        "colab": {
          "base_uri": "https://localhost:8080/",
          "height": 35
        },
        "id": "2UtKPvAw6FWn",
        "outputId": "cccc53c2-69d9-4a76-ae9f-6b50e7884146"
      },
      "execution_count": null,
      "outputs": [
        {
          "output_type": "execute_result",
          "data": {
            "application/vnd.google.colaboratory.intrinsic+json": {
              "type": "string"
            },
            "text/plain": [
              "'hola mundo'"
            ]
          },
          "metadata": {},
          "execution_count": 37
        }
      ]
    },
    {
      "cell_type": "code",
      "source": [
        "s3 = \"\"\"hola\n",
        "        \n",
        "        mundo\"\"\"   # s3 es de tipo str y su valor es hola \\n mundo.\n",
        "s3"
      ],
      "metadata": {
        "colab": {
          "base_uri": "https://localhost:8080/",
          "height": 35
        },
        "id": "niZeux3C6FeP",
        "outputId": "5aecb159-4a9e-46e3-ac1b-b3a68e3fff91"
      },
      "execution_count": null,
      "outputs": [
        {
          "output_type": "execute_result",
          "data": {
            "application/vnd.google.colaboratory.intrinsic+json": {
              "type": "string"
            },
            "text/plain": [
              "'hola\\n        \\n        mundo'"
            ]
          },
          "metadata": {},
          "execution_count": 39
        }
      ]
    },
    {
      "cell_type": "markdown",
      "source": [
        "**Tipo Booleano ( bool )**\n",
        "\n",
        "En Python el tipo de dato que representa los valores booleanos es bool. Este tipo de dato solo puede adoptar los valores True para representar verdadero y False para representar falso. Además, se puede representar el valor falso con None y con el valor cero de cualquier tipo numérico: 0, 0.0, 0j."
      ],
      "metadata": {
        "id": "uLDOZ_P4nwME"
      }
    },
    {
      "cell_type": "code",
      "source": [
        "\n",
        "a = True # a es de tipo bool y su valor es True.\n",
        "a"
      ],
      "metadata": {
        "colab": {
          "base_uri": "https://localhost:8080/"
        },
        "id": "oRRJKzVKn4gS",
        "outputId": "bc6f0fb0-3d1d-43e8-fe4e-ec9bea3dfe00"
      },
      "execution_count": null,
      "outputs": [
        {
          "output_type": "execute_result",
          "data": {
            "text/plain": [
              "True"
            ]
          },
          "metadata": {},
          "execution_count": 1
        }
      ]
    },
    {
      "cell_type": "markdown",
      "source": [
        "**Conversión entre tipos de datos**\n",
        "\n",
        "Podemos convertir diferentes tipos de datos usando funciones de conversión de tipos como int (), float (), str (), etc."
      ],
      "metadata": {
        "id": "2q47cdL3oKqr"
      }
    },
    {
      "cell_type": "code",
      "source": [
        "\n",
        "a = 5            # a es de tipo int y su valor es 5\n",
        "print(a)\n",
        "b = float( a )   # b es de tipo float y su valor es 5.0 \n",
        "print(b)\n",
        "x = 10.9         # x es de tipo float y su valor es 10.9\n",
        "print(x)\n",
        "y = int( x )     # y es de tipo int y su valor es 10 \n",
        "print(y)\n",
        "m = 25           # m es de tipo int y su valor es 25\n",
        "print(m)\n",
        "p = str( m )     # p es de tipo str y su valor es ‘25’\n",
        "print(p)"
      ],
      "metadata": {
        "colab": {
          "base_uri": "https://localhost:8080/"
        },
        "id": "EL-vQi5ZoQ1F",
        "outputId": "6a2ae6b0-9403-4cf0-f989-daa7e42f92ee"
      },
      "execution_count": null,
      "outputs": [
        {
          "output_type": "stream",
          "name": "stdout",
          "text": [
            "5\n",
            "5.0\n",
            "10.9\n",
            "10\n",
            "25\n",
            "25\n"
          ]
        }
      ]
    },
    {
      "cell_type": "markdown",
      "source": [
        "Para conocer el tipo de dato asignado a una variable podemos emplear la función type()."
      ],
      "metadata": {
        "id": "-DwA9Ldoome5"
      }
    },
    {
      "cell_type": "code",
      "source": [
        "type(a)"
      ],
      "metadata": {
        "colab": {
          "base_uri": "https://localhost:8080/"
        },
        "id": "cWdVklwfossJ",
        "outputId": "a9ff656c-aa92-43d2-acab-bb07fb2ff599"
      },
      "execution_count": null,
      "outputs": [
        {
          "output_type": "execute_result",
          "data": {
            "text/plain": [
              "int"
            ]
          },
          "metadata": {},
          "execution_count": 14
        }
      ]
    },
    {
      "cell_type": "code",
      "source": [
        "type(b)"
      ],
      "metadata": {
        "colab": {
          "base_uri": "https://localhost:8080/"
        },
        "id": "XJl2z0CZoxwl",
        "outputId": "21064c52-b123-4d9c-cd74-3efaacae29fd"
      },
      "execution_count": null,
      "outputs": [
        {
          "output_type": "execute_result",
          "data": {
            "text/plain": [
              "float"
            ]
          },
          "metadata": {},
          "execution_count": 15
        }
      ]
    },
    {
      "cell_type": "code",
      "source": [
        "type(p)"
      ],
      "metadata": {
        "colab": {
          "base_uri": "https://localhost:8080/"
        },
        "id": "xaGSHArOo0ey",
        "outputId": "39e3709b-fa14-411d-89ef-8d5149f9c64e"
      },
      "execution_count": null,
      "outputs": [
        {
          "output_type": "execute_result",
          "data": {
            "text/plain": [
              "str"
            ]
          },
          "metadata": {},
          "execution_count": 20
        }
      ]
    },
    {
      "cell_type": "markdown",
      "source": [
        "# Entrada y salida\n",
        "\n",
        "**print()**\n",
        "\n",
        "Usamos la función print() para enviar datos al dispositivo de salida estándar (pantalla)."
      ],
      "metadata": {
        "id": "7OChwn6ApBSZ"
      }
    },
    {
      "cell_type": "code",
      "source": [
        "print('Hola Mundo') #se muestra por pantalla el mensaje Hola Mundo.\n",
        "\n",
        "number = 5\n",
        "print('El valor de number es:', number) #se muestra por pantalla el mensaje El valor de number es: 5.\n"
      ],
      "metadata": {
        "colab": {
          "base_uri": "https://localhost:8080/"
        },
        "id": "Z4Npb9_5pYj2",
        "outputId": "52b6c1b3-48a5-4595-8174-f40da70cac09"
      },
      "execution_count": null,
      "outputs": [
        {
          "output_type": "stream",
          "name": "stdout",
          "text": [
            "Hola Mundo\n",
            "El valor de number es: 5\n"
          ]
        }
      ]
    },
    {
      "cell_type": "markdown",
      "source": [
        "**input()**\n",
        "\n",
        "Hasta ahora, el valor de las variables se definió en el código fuente.\n",
        "Para permitir la flexibilidad, es posible que deseemos tomar la entrada del usuario. En Python, tenemos la función input()."
      ],
      "metadata": {
        "id": "xXbhLD1opqdo"
      }
    },
    {
      "cell_type": "code",
      "source": [
        "dato = input('Ingrese valor: ')  # el valor que ingresa el usuario se asigna a la variable x\n",
        "print(type(dato))                # el valor ingresado por el usuario es del tipo str,\n",
        "dato = float(dato)               # para emplearlo en operaciones se lo convierte a tipo float.   \n",
        "dato"
      ],
      "metadata": {
        "colab": {
          "base_uri": "https://localhost:8080/"
        },
        "id": "XBdWNsVjpwi6",
        "outputId": "39584986-dd63-47dc-fe61-73975033ee2a"
      },
      "execution_count": null,
      "outputs": [
        {
          "output_type": "stream",
          "name": "stdout",
          "text": [
            "Ingrese valor: 12\n",
            "<class 'str'>\n"
          ]
        },
        {
          "output_type": "execute_result",
          "data": {
            "text/plain": [
              "12.0"
            ]
          },
          "metadata": {},
          "execution_count": 3
        }
      ]
    },
    {
      "cell_type": "markdown",
      "source": [
        "# Operadores en Python\n",
        "[Enlace a bibliografía](https://www.freecodecamp.org/espanol/news/operadores-basicos-en-python-con-ejemplos/)\n"
      ],
      "metadata": {
        "id": "H-WsSAM-rBbQ"
      }
    },
    {
      "cell_type": "code",
      "source": [
        "#Operadores Aritméticos\n",
        "a = 12\n",
        "b = 7\n",
        "\n",
        "suma = a + b\n",
        "print('a + b =', suma)\n",
        "resta = a - b\n",
        "print('a - b =', resta)\n",
        "multiplicacion = a * b\n",
        "print('a * b =', multiplicacion)\n",
        "division = a / b\n",
        "print('a / b =', division)\n",
        "division_entera = a // b\n",
        "print('a // b =', division_entera)\n",
        "resto_division = a % b\n",
        "print('a % b =', resto_division)\n",
        "potencia = a**b\n",
        "print('a ** b =', potencia)"
      ],
      "metadata": {
        "colab": {
          "base_uri": "https://localhost:8080/"
        },
        "id": "pPwRPrNfrUgt",
        "outputId": "b5c14e4c-a80a-4727-acdb-5c9ef803da0e"
      },
      "execution_count": null,
      "outputs": [
        {
          "output_type": "stream",
          "name": "stdout",
          "text": [
            "a + b = 19\n",
            "a - b = 5\n",
            "a * b = 84\n",
            "a / b = 1.7142857142857142\n",
            "a // b = 1\n",
            "a % b = 5\n",
            "a ** b = 35831808\n"
          ]
        }
      ]
    },
    {
      "cell_type": "code",
      "source": [
        "#Operadores Relacionales\n",
        "a = 12\n",
        "b = 5\n",
        "\n",
        "print('a<b: ', a<b)\n",
        "print('a>b: ', a>b)\n",
        "print('a==b:', a==b)\n",
        "print('a>=b:', a>=b)\n",
        "print('a<=b:', a<=b)\n",
        "print('a!=b:', a!=b)"
      ],
      "metadata": {
        "colab": {
          "base_uri": "https://localhost:8080/"
        },
        "id": "ik4DZ5UIsuJp",
        "outputId": "68d3b92b-d184-4114-eeb7-f3d5690f733e"
      },
      "execution_count": null,
      "outputs": [
        {
          "output_type": "stream",
          "name": "stdout",
          "text": [
            "a<b:  False\n",
            "a>b:  True\n",
            "a==b: False\n",
            "a>=b: True\n",
            "a<=b: False\n",
            "a!=b: True\n"
          ]
        }
      ]
    },
    {
      "cell_type": "code",
      "source": [
        "#Operadores Lógicos\n",
        "a = 12\n",
        "b = 5\n",
        "\n",
        "#and \n",
        "print('(a and b) > 10:', (a and b) > 10)\n",
        "\n",
        "#or\n",
        "print('(a or b) > 10:', (a or b) > 10)"
      ],
      "metadata": {
        "colab": {
          "base_uri": "https://localhost:8080/"
        },
        "id": "7CuDRwSltm_t",
        "outputId": "da254c6b-134b-4177-e161-d9a20e9c156f"
      },
      "execution_count": null,
      "outputs": [
        {
          "output_type": "stream",
          "name": "stdout",
          "text": [
            "(a and b) > 10: False\n",
            "(a or b) > 10: True\n"
          ]
        }
      ]
    }
  ]
}