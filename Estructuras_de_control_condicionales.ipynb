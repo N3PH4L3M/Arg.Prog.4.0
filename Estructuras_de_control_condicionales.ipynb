{
  "nbformat": 4,
  "nbformat_minor": 0,
  "metadata": {
    "colab": {
      "provenance": [],
      "include_colab_link": true
    },
    "kernelspec": {
      "name": "python3",
      "display_name": "Python 3"
    },
    "language_info": {
      "name": "python"
    }
  },
  "cells": [
    {
      "cell_type": "markdown",
      "metadata": {
        "id": "view-in-github",
        "colab_type": "text"
      },
      "source": [
        "<a href=\"https://colab.research.google.com/github/N3PH4L3M/Arg.Prog.4.0/blob/main/Estructuras_de_control_condicionales.ipynb\" target=\"_parent\"><img src=\"https://colab.research.google.com/assets/colab-badge.svg\" alt=\"Open In Colab\"/></a>"
      ]
    },
    {
      "cell_type": "markdown",
      "source": [
        "# Estructuras de control Condicionales\n",
        "En muchos casos es necesario tomar decisiones en base a los resultados que arroja un programa o según los datos ingresados. En estos casos, se utilizan  **estructuras de control** para, como lo indica su nombre, controlar el flujo de ejecución del programa. \n",
        "\n",
        "Una de éstas estructuras de control son los condicionales. En el caso de Python contamos con la sentencia **if** y sus variantes. \n",
        "\n",
        "La sentencia if nos permite tomar decisiones cuando queremos ejecutar un programa, o parte de él, solo si se cumple una determinada condición. Para realizar esto en Python empleamos las declaraciones *if… elif… else*. "
      ],
      "metadata": {
        "id": "afybdW_nprrv"
      }
    },
    {
      "cell_type": "markdown",
      "source": [
        "**Declaración *if***\n",
        "\n",
        "La sintaxis básica de esta declaración comienza con la palabra reservada *if*, seguido de la condición que se debe cumplir, finalizando la primer línea con dos puntos ( : ). En las líneas siguientes, con una indentación (tabulación de 4 espacios), se definen todas las acciones y declaraciones que se deben realizar si la condición se cumple.\n",
        "\n",
        "Si la condición de prueba es falsa, no se ejecutan las declaraciones consiguientes.\n",
        "\n",
        "Python interpreta los valores distintos de cero como True. None y 0 se interpretan como False.\n"
      ],
      "metadata": {
        "id": "clP4U1j3p2pv"
      }
    },
    {
      "cell_type": "code",
      "execution_count": null,
      "metadata": {
        "id": "i6JgrEy7pkAh"
      },
      "outputs": [],
      "source": [
        "number = 5 \n",
        "if number > 0:\n",
        "    print(number, \"es un número positivo.\")\n",
        "print(\"Declaración fuera del if\")"
      ]
    },
    {
      "cell_type": "markdown",
      "source": [
        "**Declaración if...else**\n",
        "\n",
        "La instrucción if..else evalúa la condición, ejecutará el bloque de if solo cuando la condición de prueba sea True.\n",
        "\n",
        "Si la condición es False, se ejecuta el bloque de else. \n",
        "\n",
        "La indentación se utiliza para separar los bloques.\n"
      ],
      "metadata": {
        "id": "eo64CgQnrDYL"
      }
    },
    {
      "cell_type": "code",
      "source": [
        "number = 5\n",
        "\n",
        "if number >= 0:\n",
        "    print(\"Número positivo o Cero\")\n",
        "else:\n",
        "    print(\"Número negativo\")"
      ],
      "metadata": {
        "id": "60PZ2ORQrTq_"
      },
      "execution_count": null,
      "outputs": []
    },
    {
      "cell_type": "markdown",
      "source": [
        "**Declaración if...elif...else**\n",
        "\n",
        "elif es la abreviatura de else if. Nos permite verificar múltiples condiciones.\n",
        "\n",
        "Si la condición de if es False, verifica la condición del siguiente bloque elif y así sucesivamente.\n",
        "\n",
        "Si todas las condiciones son False, se ejecuta el bloque de else.\n",
        "Sólo un bloque entre los varios bloques if ... elif ... else se ejecuta de acuerdo con la condición.\n",
        "\n",
        "El bloque if solo puede tener un bloque else. Pero puede tener varios bloques elif."
      ],
      "metadata": {
        "id": "uoOQ1TiornnT"
      }
    },
    {
      "cell_type": "code",
      "source": [
        "number = 5.0\n",
        "\n",
        "if number > 0:\n",
        "    print(\"Número positivo\")\n",
        "elif number == 0:\n",
        "    print(\"Cero\")\n",
        "else:\n",
        "    print(\"Número negativo\")"
      ],
      "metadata": {
        "id": "f9LaqcMCsHks"
      },
      "execution_count": null,
      "outputs": []
    },
    {
      "cell_type": "markdown",
      "source": [
        "**Declaraciones if anidadas**\n",
        "\n",
        "Podemos tener una declaración if ... elif ... else dentro de otra declaración if ... elif ... else. A esto se le llama anidamiento en programación.\n",
        "Cualquier número de estas declaraciones se puede anidar una dentro de la otra. La indentación es la única forma de determinar el nivel de anidamiento. \n",
        "\n",
        "Puede resultar confuso, por lo que deben evitarse a menos que sea necesario."
      ],
      "metadata": {
        "id": "qKJTVfVwsY9z"
      }
    },
    {
      "cell_type": "code",
      "source": [
        "number = float(input(\"Ingrese número: \"))\n",
        "\n",
        "if number >= 0:\n",
        "    if number == 0:\n",
        "        print(\"Cero\")\n",
        "    else:\n",
        "        print(\"Número positivo\")\n",
        "else:\n",
        "    print(\"Número negativo\")"
      ],
      "metadata": {
        "id": "h_knnJ2KslpC"
      },
      "execution_count": null,
      "outputs": []
    },
    {
      "cell_type": "markdown",
      "source": [
        "# Problemas resueltos"
      ],
      "metadata": {
        "id": "a3Wf--4n76dL"
      }
    },
    {
      "cell_type": "markdown",
      "source": [
        "**Problema 1**\n",
        "\n",
        "Escriba un programa en Python donde se ingrese un valor y permita obtener el doble, el triple, la mitad o la cuarta parte del dato ingresado. El usuario debe ingresar el valor y seleccionar la operación a realizar."
      ],
      "metadata": {
        "id": "j-4ibwnBz0ib"
      }
    },
    {
      "cell_type": "code",
      "source": [
        "#Opcion 1\n",
        "valor = float(input(\"Ingrese valor: \"))\n",
        "opcion = int(input(\"Ingrese operacion a realizar: 1 (doble), 2 (triple), 3 (mitad), 4 (1/4 parte)\"))\n",
        "\n",
        "if opcion == 1:\n",
        "  print(valor*2)\n",
        "\n",
        "if opcion == 2:\n",
        "  print(valor*3)\n",
        "\n",
        "if opcion == 3:\n",
        "  print(valor/2)\n",
        "\n",
        "if opcion == 4:\n",
        "  print(valor/4)\n",
        "\n",
        "if opcion !=1 and opcion !=2 and opcion !=3 and opcion !=4:\n",
        "  print(\"La opción no es correcta\")\n"
      ],
      "metadata": {
        "id": "BiWLjHRC0DM3"
      },
      "execution_count": null,
      "outputs": []
    },
    {
      "cell_type": "code",
      "source": [
        "#Opcion 2\n",
        "valor = float(input(\"Ingrese valor: \"))\n",
        "opcion = int(input(\"Ingrese operacion a realizar: 1 (doble), 2 (triple), 3 (mitad), 4 (1/4 parte)\"))\n",
        "\n",
        "if opcion == 1:\n",
        "  print(valor*2)\n",
        "elif opcion == 2:\n",
        "  print(valor*3)\n",
        "elif opcion == 3:\n",
        "  print(valor/2)\n",
        "elif opcion == 4:\n",
        "  print(valor/4)\n",
        "else:\n",
        "  print(\"La opción no es correcta\")"
      ],
      "metadata": {
        "id": "EYuqCmxu190o"
      },
      "execution_count": null,
      "outputs": []
    },
    {
      "cell_type": "markdown",
      "source": [
        "**Problema 2**\n",
        "\n",
        "Escriba un programa en Python que calcule y muestre las raíces o soluciones de una ecuación cuadrática del tipo  ax² + bx + c = 0, siendo que el usuario del programa ingresa como datos los coeficientes a, b y c. "
      ],
      "metadata": {
        "id": "qRxW8KVpwfnM"
      }
    },
    {
      "cell_type": "code",
      "execution_count": null,
      "metadata": {
        "id": "zzQZNYnEwcfJ"
      },
      "outputs": [],
      "source": [
        "import math\n",
        "\n",
        "a = float(input(\"Ingrese coeficiente a: \"))\n",
        "b = float(input(\"Ingrese coeficiente b: \"))\n",
        "c = float(input(\"Ingrese coeficiente c: \"))\n",
        "\n",
        "if a==0:\n",
        "  print(\"El coeficiente a deber ser diferente de cero.\")\n",
        "else:   \n",
        "  discriminante = b*b-4*a*c\n",
        "\n",
        "  if discriminante == 0:\n",
        "    r = -b/(2*a)\n",
        "    print(\"Las raices son reales e iguales y valen: \", r)\n",
        "  elif discriminante > 0:\n",
        "\t  r1 = (-b+math.sqrt(discriminante))/(2*a)\n",
        "\t  r2 = (-b-math.sqrt(discriminante))/(2*a)\n",
        "\t  print(\"Las raices son reales distintas y valen: \",r1,\" y \",r2)\n",
        "  else: #discrimiante < 0\n",
        "    re = -b/(2*a)\n",
        "    im = math.sqrt(abs(discriminante))/(2*a)\n",
        "    im = round(im,2)\n",
        "    print(\"Las raices son complejas conjugadas\")\n",
        "    print(re,\"+\",im,\"i\")\n",
        "    print(re,\"-\",im,\"i\")"
      ]
    }
  ]
}