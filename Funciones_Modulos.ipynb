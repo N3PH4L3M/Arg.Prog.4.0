{
  "nbformat": 4,
  "nbformat_minor": 0,
  "metadata": {
    "colab": {
      "provenance": [],
      "include_colab_link": true
    },
    "kernelspec": {
      "name": "python3",
      "display_name": "Python 3"
    },
    "language_info": {
      "name": "python"
    }
  },
  "cells": [
    {
      "cell_type": "markdown",
      "metadata": {
        "id": "view-in-github",
        "colab_type": "text"
      },
      "source": [
        "<a href=\"https://colab.research.google.com/github/N3PH4L3M/Arg.Prog.4.0/blob/main/Funciones_Modulos.ipynb\" target=\"_parent\"><img src=\"https://colab.research.google.com/assets/colab-badge.svg\" alt=\"Open In Colab\"/></a>"
      ]
    },
    {
      "cell_type": "markdown",
      "source": [
        "# Funciones en Python\n",
        "\n",
        "Para hallar la solución de un problema complejo, es conveniente dividirlo en\n",
        "pequeños problemas más simples y buscar la solución de cada uno de ellos en\n",
        "forma independiente.\n",
        "\n",
        "En el diseño de algoritmos computacionales y programas ésta subdivisión en\n",
        "segmentos o módulos (que llamaremos subprogramas) constituye una\n",
        "herramienta muy importante que nos permite modularizar problemas grandes o\n",
        "complejos.\n",
        "\n",
        "Un subprograma es un conjunto de acciones, diseñado generalmente en forma separada y cuyo objetivo es resolver una parte del problema. Estos subprogramas pueden ser invocados (llamados para ser ejecutados) desde diferentes puntos de un mismo programa y también desde otros subprogramas. La finalidad de los mismos es simplificar el diseño, la codificación y la posterior depuración de los programas.\n",
        "\n",
        "Las ventajas de usar subprogramas son:\n",
        "* Reducir la complejidad del programa y lograr mayor modularidad.\n",
        "* Permitir y facilitar el trabajo en equipo: cada diseñador puede desarrollar diferentes módulos o subprogramas.\n",
        "* Facilitar la prueba de un programa, ya que cada subprograma puede ser\n",
        "probado previamente y en forma independiente.\n",
        "* Optimizar el uso y administración de memoria.\n",
        "* Crear librerías de subprogramas para su posterior reutilización en otros\n",
        "programas.\n",
        "\n",
        "Es conveniente emplear subprogramas cuando:\n",
        "* Existe un conjunto de operaciones que se utilizan más de una vez en un mismo\n",
        "programa.\n",
        "* Existe un conjunto de operaciones útiles que pueden ser utilizadas por otros\n",
        "programas.\n",
        "* Se desea agrupar procesos para lograr una mayor claridad en el código del\n",
        "programa.\n",
        "* Se pretende crear bibliotecas que permitan lograr mayor productividad en el\n",
        "desarrollo de futuros programas.\n",
        "\n",
        "Al plantear la solución a un problema que queremos resolver, diseñamos un\n",
        "programa al que llamaremos programa principal. Incluirá entre sus acciones\n",
        "una sentencia especial que permite llamar al subprograma.\n",
        "En la etapa de ejecución del programa, al encontrar la llamada al subprograma,\n",
        "se transfiere el control de ejecución a éste y comienzan a ejecutarse las acciones previstas en él. Al finalizar la ejecución del subprograma y obtenidos\n",
        "los resultados planeados, el control retorna al programa que produjo la llamada,\n",
        "y continúa la ejecución del programa principal.\n",
        "\n",
        "En Python, a estos subprogramas los denominaremos funciones. Una función es un bloque de código (conjunto de instrucciones) que tiene asociado un nombre, de manera que cada vez que se quiera ejecutar ese bloque de código, basta con invocar el nombre de la función. Las funciones constituyen una unidad lógica del programa y resuelven un problema muy concreto.\n",
        "\n",
        "A continuación se presenta la declaración de dos funciones simples:"
      ],
      "metadata": {
        "id": "SnmYHVOlT5rS"
      }
    },
    {
      "cell_type": "code",
      "source": [
        "def doble(numero):\n",
        "    '''función para obtener el doble de un número'''\n",
        "    return(numero * 2)\n",
        "\n",
        "def triple(numero):\n",
        "    '''función para obtener el triple de un número'''\n",
        "    return(numero * 3)"
      ],
      "metadata": {
        "id": "fbyUkD6_wS2a"
      },
      "execution_count": null,
      "outputs": []
    },
    {
      "cell_type": "markdown",
      "source": [
        "Para declarar una función se utiliza la palabra reservada **def**, seguida del nombre o identificador de la función. A continuación, entre paréntesis, se indican los parámetros, los cuales son opcionales. Los parámetros son las entradas: datos, estructuras o información que la función necesita para poder resolver la tarea o problema para la cual fue creada. Por último, la cabecera o definición de la función termina con dos puntos. Tras los dos puntos se incluye el cuerpo de la función (con un sangrado mayor) que es el conjunto de instrucciones que se encapsulan en dicha función y que le dan significado. Finalmente, y de manera opcional, se añade la instrucción con la palabra reservada **return**, que puede o no devolver un resultado. \n",
        "\n",
        "\n",
        "Cuando la primera instrucción de una función es un string encerrado entre tres comillas simples ' ' ' o dobles \" \" \", a dicha instrucción se le conoce como ***docstring***. El docstring es una cadena que se utiliza para documentar la función, es decir, indicar qué hace dicha función.\n",
        "\n",
        "Las funciones en Python, como en cualquier lenguaje de programación, son estructuras esenciales de código. Un programa puede contener varias funciones, que pueden definirse en cualquier lugar del programa."
      ],
      "metadata": {
        "id": "XcmPFez1wQ5i"
      }
    },
    {
      "cell_type": "markdown",
      "source": [
        "# Llamada a la función\n",
        "\n",
        "Para usar o invocar a una función, simplemente hay que escribir su nombre como si se tratara de una instrucción más. Eso sí, es necesario pasar los argumentos necesarios según los parámetros que se hayan definido en la función.\n",
        "\n",
        "Si no se llama a la función, sus instrucciones no se ejecutarán."
      ],
      "metadata": {
        "id": "IvFtosCBBtIO"
      }
    },
    {
      "cell_type": "code",
      "source": [
        "print('Comienzo del programa')    \n",
        "print(\"El doble de 7 es:\",doble(7)) # llamada a la función: doble(7)\n",
        "print('Siguiente')\n",
        "print(\"El triple de 113 es:\",triple(113)) # llamada a la función: triple(113)\n",
        "print('Fin')"
      ],
      "metadata": {
        "colab": {
          "base_uri": "https://localhost:8080/"
        },
        "id": "TPwG4RKKCBcP",
        "outputId": "cbddeb83-cdd5-4777-e33c-0fb0be97a13e"
      },
      "execution_count": null,
      "outputs": [
        {
          "output_type": "stream",
          "name": "stdout",
          "text": [
            "Comienzo del programa\n",
            "El doble de 7 es: 14\n",
            "Siguiente\n",
            "El triple de 113 es: 339\n",
            "Fin\n"
          ]
        }
      ]
    },
    {
      "cell_type": "markdown",
      "source": [
        "# Valor de retorno\n",
        "\n",
        "Una función puede devolver una variable de cualquier tipo tras su invocación. Para ello la variable a devolver o “retornar” debe escribirse detrás de la palabra reservada **return**. Usar la sentencia **return** hace que termine la ejecución de la función cuando aparece y el programa continúa por su flujo normal (devuelve el control al punto donde se llamó la función). La sentencia **return** suele encontrarse al final de la secuencia de instrucciones, pero podemos tener múltiples sentencias **return** si nuestra función utiliza estructuras condicionales para resolver la tarea que le fue asignada.\n"
      ],
      "metadata": {
        "id": "sb5-_IE01rd5"
      }
    },
    {
      "cell_type": "code",
      "source": [
        "def es_par(numero):\n",
        "    '''función que indica si un número es par o impar'''\n",
        "    if numero % 2 == 0:\n",
        "        return \"si\"\n",
        "    else:\n",
        "        return \"no\"\n",
        "\n",
        "print('Comienzo del programa') \n",
        "n=67  \n",
        "print(\"¿El número\",n,\"es par?\",es_par(n))\n",
        "print('Siguiente')\n",
        "n=100\n",
        "print(\"¿El número\",n,\"es par?\",es_par(n))\n",
        "print('Fin')  "
      ],
      "metadata": {
        "colab": {
          "base_uri": "https://localhost:8080/"
        },
        "id": "UziubdTZzJKx",
        "outputId": "ea91cdee-1147-4379-ed56-94d55b6e6847"
      },
      "execution_count": null,
      "outputs": [
        {
          "output_type": "stream",
          "name": "stdout",
          "text": [
            "Comienzo del programa\n",
            "¿El número 67 es par? no\n",
            "Siguiente\n",
            "¿El número 100 es par? si\n",
            "Fin\n"
          ]
        }
      ]
    },
    {
      "cell_type": "markdown",
      "source": [
        "En Python es posible devolver más de un valor con una sola sentencia **return**. Para ello puede utilizarse una tupla de valores o una lista. "
      ],
      "metadata": {
        "id": "g5R93BT57Jmw"
      }
    },
    {
      "cell_type": "code",
      "execution_count": null,
      "metadata": {
        "id": "gTTl-4163rpt",
        "colab": {
          "base_uri": "https://localhost:8080/"
        },
        "outputId": "0ac9a0f3-59dc-4dee-a65c-0e61ab5aa0db"
      },
      "outputs": [
        {
          "output_type": "stream",
          "name": "stdout",
          "text": [
            "Tabla del 3:\n",
            "[0, 3, 6, 9, 12, 15, 18, 21, 24, 27, 30]\n"
          ]
        }
      ],
      "source": [
        "def tabla_del(numero):\n",
        "    resultados = []\n",
        "    for i in range(11):\n",
        "        resultados.append(numero * i)\n",
        "    return resultados\n",
        "    \n",
        "# Programa principal\n",
        "print('Tabla del 3:') \n",
        "res = tabla_del(3)  \n",
        "print(res)"
      ]
    },
    {
      "cell_type": "markdown",
      "source": [
        "Si no se utiliza la sentencia **return**, el programa finaliza cuando se termina el bloque de instrucciones del cuerpo. \n",
        "\n",
        "A diferencia de otros lenguajes,  en Python una función siempre devuelve un valor. Por lo tanto, cuando no aparece la sentencia **return** o ésta no devuelve nada, por defecto se retorna el valor **None**."
      ],
      "metadata": {
        "id": "x_fCKhJ8CWj6"
      }
    },
    {
      "cell_type": "code",
      "source": [
        "def saludo(nombre):\n",
        "    print(\"Hola\",nombre)\n",
        "\n",
        "nombre=\"Pepe\"\n",
        "print(saludo(nombre))"
      ],
      "metadata": {
        "colab": {
          "base_uri": "https://localhost:8080/"
        },
        "id": "yVdKE0jrCw7A",
        "outputId": "32a23e0b-9c07-4003-d9d6-df9fbdcc3a5a"
      },
      "execution_count": null,
      "outputs": [
        {
          "output_type": "stream",
          "name": "stdout",
          "text": [
            "Hola Pepe\n",
            "None\n"
          ]
        }
      ]
    },
    {
      "cell_type": "markdown",
      "source": [
        "Note que al tratar de mostrar lo que devuelve la función, lo que aparece es **None**. La frase \"Hola Pepe\" corresponde a la salida que aparece dentro de la función.\n",
        "\n",
        "Si bien en este ejemplo tenemos una salida como parte del cuerpo de la función, no es recomendable utilizar salidas print() y entradas input() dentro de funciones, salvo que la función haya sido creada con ese propósito particular."
      ],
      "metadata": {
        "id": "TUXKYpZbFh-r"
      }
    },
    {
      "cell_type": "markdown",
      "source": [
        "# Parámetros de una función\n",
        "\n",
        "El intercambio de información entre la función y el programa o módulo que la llama (invoca) se realiza mediante el uso de parámetros. Éstos se definen entre paréntesis en la declaración de la función y permiten que la misma pueda recibir valores, estructuras de datos e información, que luego se utiliza en el cuerpo (bloque de código), para resolver una determinada tarea. \n",
        "\n",
        "Cada vez que se llama a una función, los valores concretos que se pasan se conocen como **argumentos** y se asocian a los parámetros de la declaración de la función.\n",
        "\n",
        "Los argumentos se pueden indicar de dos formas:\n",
        "\n",
        "* **Argumentos posicionales**: se asocian a los parámetros de la función en el mismo orden que aparecen en la definición de la función.\n",
        "\n",
        "* **Argumentos por nombre**: se indica explícitamente el nombre del parámetro al que se asocia un argumento de la forma parámetro = argumento.\n",
        "\n"
      ],
      "metadata": {
        "id": "-s_8ojwHt1wq"
      }
    },
    {
      "cell_type": "code",
      "source": [
        "def Area_triangulo(base, altura):\n",
        "    '''Función para calcular el área de un triángulo'''\n",
        "    return base*altura/2\n",
        "\n",
        "print('Comienzo del programa') \n",
        "b = float(input(\"Ingrese base: \"))\n",
        "a = float(input(\"Ingrese altura: \")) \n",
        "# Llamada a la función con argumentos posicionales\n",
        "area=Area_triangulo(b,a)\n",
        "print(\"El área del triángulo es: \",area)\n",
        "# Llamada a la función con argumentos por nombre\n",
        "area=Area_triangulo(altura=a,base=b)\n",
        "print(\"El área del triángulo es: \",area)\n",
        "print('Fin')    "
      ],
      "metadata": {
        "colab": {
          "base_uri": "https://localhost:8080/"
        },
        "id": "PB9jy4Oqj3ll",
        "outputId": "a9141bbf-cca3-4e5a-8daf-4e8371711357"
      },
      "execution_count": null,
      "outputs": [
        {
          "output_type": "stream",
          "name": "stdout",
          "text": [
            "Comienzo del programa\n",
            "Ingrese base: 7\n",
            "Ingrese altura: 5\n",
            "El área del triángulo es:  17.5\n",
            "El área del triángulo es:  17.5\n",
            "Fin\n"
          ]
        }
      ]
    },
    {
      "cell_type": "markdown",
      "source": [
        "Mediante el pasaje de argumentos por nombre se puede mezclar el orden de los parámetros. Eso sí,  los parámetros posicionales, es decir, aquellos que se indican sin nombre y cuyo valor se asigna en el orden en el que aparecen, siempre deben aparecer en primer lugar:\n",
        "\n",
        "####`area=Area_triangulo(a,base=b)` -> Correcto ✅\n",
        "\n",
        "####`area=Area_triangulo(altura=a,b)` -> Incorrecto ❌"
      ],
      "metadata": {
        "id": "ABMh3EXgyYgH"
      }
    },
    {
      "cell_type": "markdown",
      "source": [
        "Si al llamar a la función no pasamos todos los argumentos se producirá un error. Esto se puede evitar indicando en la función una serie de **parámetros opcionales**. Éstos son parámetros que se indican con un valor por defecto y si no se pasan al invocar a la función entonces toman este valor."
      ],
      "metadata": {
        "id": "pDpBIbzlH3ht"
      }
    },
    {
      "cell_type": "code",
      "source": [
        "def distancia(p1,p0=(0,0)):\n",
        "    '''Función para calcular la distancia entre dos puntos p1 y p0'''\n",
        "    from math import sqrt\n",
        "    dis=sqrt((p1[0]-p0[0])**2+(p1[1]-p0[1])**2)\n",
        "    return dis\n",
        "\n",
        "print('Comienzo del programa') \n",
        "punto1=(12,9)\n",
        "punto2=(6,-5) \n",
        "print(\"La distancia entre los puntos es: \",distancia(punto2,punto1))\n",
        "print(\"La distancia del punto 2 al origen (0,0) es:\",distancia(punto2))\n",
        "print('Fin')    \n"
      ],
      "metadata": {
        "colab": {
          "base_uri": "https://localhost:8080/"
        },
        "id": "E2sJArwBJCC1",
        "outputId": "c839f5ff-e872-4b35-ea4f-3a108c2d8170"
      },
      "execution_count": null,
      "outputs": [
        {
          "output_type": "stream",
          "name": "stdout",
          "text": [
            "Comienzo del programa\n",
            "La distancia entre los puntos es:  15.231546211727817\n",
            "La distancia del punto 2 al origen (0,0) es: 7.810249675906654\n",
            "Fin\n"
          ]
        }
      ]
    },
    {
      "cell_type": "markdown",
      "source": [
        "En Python el pasaje de parámetros es siempre por **referencia**. Lo que se pasa es el valor de la referencia del objeto. Por lo tanto, si el tipo que se pasa como argumento es inmutable, cualquier modificación en el valor del parámetro no afectará a la variable externa (variable del programa cliente), pero si es mutable, sí se verá afectado por las modificaciones."
      ],
      "metadata": {
        "id": "G0JRbajCI97l"
      }
    },
    {
      "cell_type": "code",
      "source": [
        "def distancia(p1,p0=(0,0)):\n",
        "    '''Función para calcular la distancia entre dos puntos p1 y p0'''\n",
        "    from math import sqrt\n",
        "    dis=sqrt((p1[0]-p0[0])**2+(p1[1]-p0[1])**2)\n",
        "    # se modifica el valor del punto p0\n",
        "    p0=(0,0)\n",
        "    print(\"En la función los puntos son:\", p0, \"y\", p1)\n",
        "    return dis\n",
        "\n",
        "print('Comienzo del programa') \n",
        "punto1=(12,9)\n",
        "punto2=(6,-5) \n",
        "print(\"La distancia entre los puntos es: \",distancia(punto2,punto1))\n",
        "print(\"Los puntos en el programa cliente son:\", punto1, \"y\", punto2)\n",
        "print('Fin')    "
      ],
      "metadata": {
        "colab": {
          "base_uri": "https://localhost:8080/"
        },
        "id": "hwjvE3Okms8s",
        "outputId": "d0daf16c-b7e9-412d-ecb3-9a6d206d9ab4"
      },
      "execution_count": null,
      "outputs": [
        {
          "output_type": "stream",
          "name": "stdout",
          "text": [
            "Comienzo del programa\n",
            "En la función los puntos son: (0, 0) y (6, -5)\n",
            "La distancia entre los puntos es:  15.231546211727817\n",
            "Los puntos en el programa cliente son: (12, 9) y (6, -5)\n",
            "Fin\n"
          ]
        }
      ]
    },
    {
      "cell_type": "markdown",
      "source": [
        "En este ejemplo, si bien la función modifica el valor de uno de los puntos, por tratarse de una tupla, que es inmutable, los valores de los puntos en el programa cliente no se modifcan.  "
      ],
      "metadata": {
        "id": "NVGzXO3inQQc"
      }
    },
    {
      "cell_type": "code",
      "source": [
        "def umbral(lista,umbral):\n",
        "    '''Función que elimina de la lista todos los valores que superan un umbral'''\n",
        "    for val in lista:\n",
        "        if val>umbral:\n",
        "          lista.remove(val)\n",
        "    return\n",
        "\n",
        "print('Comienzo del programa') \n",
        "L=[3,5,12,19,6,10,17,10,9]\n",
        "print(\"Lista original:\", L)\n",
        "u=10\n",
        "umbral(L,u) \n",
        "print(\"Lista modificada: \",L)\n",
        "print('Fin')    \n"
      ],
      "metadata": {
        "colab": {
          "base_uri": "https://localhost:8080/"
        },
        "id": "Dj8GbHryoB3a",
        "outputId": "651d42fe-b273-41d6-db78-86e19b5d5aae"
      },
      "execution_count": null,
      "outputs": [
        {
          "output_type": "stream",
          "name": "stdout",
          "text": [
            "Comienzo del programa\n",
            "Lista original: [3, 5, 12, 19, 6, 10, 17, 10, 9]\n",
            "Lista modificada:  [3, 5, 19, 6, 10, 10, 9]\n",
            "Fin\n"
          ]
        }
      ]
    },
    {
      "cell_type": "markdown",
      "source": [
        "Como la lista es un objeto mutable, cualquier modificación que la función realice sobre la misma, se verá también reflejada en el programa cliente. \n",
        "\n",
        "Pero **¿Por qué no se eliminó el valor 19?** En la lista modificada podemos ver que el valor 19 sigue allí, cuando debería haber sido eliminado, ya que supera el valor umbral propuesto 10.  \n",
        "\n",
        "Al utilizar el ciclo **for** Python usa un **contador** interno para mantener el seguimiento de las iteraciones dentro del bucle. Cuando se eliminan elementos, la longitud de la lista cambia, pero Python no actualiza el **contador**. Por lo tanto, una vez que se elimina el valor 12, la lista se \"acorta\" y el 19 pasa a ocupar el lugar del 12. Pero el contador continua hacia la siguiente posición después del 12, que ahora es ocupada por el 6. El ciclo \"no ve\" el elemento 19 y, por ende, no lo analiza ni lo procesa. En conclusión: ***Hay que evitar modificar la longitud de la lista mientras se itera sobre ella***.\n",
        "\n",
        "**Solución**: clonar (hacer una copia) la lista primero y usar la copia para controlar la iteración. *Cuidado de no usar la operación de asignación copia=lista, ya que la misma NO genera una copia, sino otra referencia a la misma secuencia*.  "
      ],
      "metadata": {
        "id": "YhPHlz4bn_t6"
      }
    },
    {
      "cell_type": "code",
      "source": [
        "def umbral(lista,umbral):\n",
        "    '''Función que elimina de la lista todos los valores que superan un umbral'''\n",
        "    copia=lista.copy()  # clonamos la lista que va a ser modificada\n",
        "    for val in copia:   # y la usamos para controla la iteración \n",
        "        if val>umbral:\n",
        "            lista.remove(val)\n",
        "    return\n",
        "\n",
        "print('Comienzo del programa') \n",
        "L=[3,5,12,19,6,10,17,10,9]\n",
        "print(\"Lista original:\", L)\n",
        "u=10\n",
        "umbral(L,u) \n",
        "print(\"Lista modificada: \",L)\n",
        "print('Fin')    \n"
      ],
      "metadata": {
        "colab": {
          "base_uri": "https://localhost:8080/"
        },
        "id": "BayfzVfNvZoM",
        "outputId": "7fa19a7b-c829-4d9b-ccee-52103f6c2de7"
      },
      "execution_count": null,
      "outputs": [
        {
          "output_type": "stream",
          "name": "stdout",
          "text": [
            "Comienzo del programa\n",
            "Lista original: [3, 5, 12, 19, 6, 10, 17, 10, 9]\n",
            "Lista modificada:  [3, 5, 6, 10, 10, 9]\n",
            "Fin\n"
          ]
        }
      ]
    },
    {
      "cell_type": "markdown",
      "source": [
        "# Cantidad indeterminada de argumentos\n",
        "\n",
        "En Python es posible pasar una cantidad variable de argumentos a un parámetro. \n",
        "\n",
        "Esto se puede hacer de dos formas:\n",
        "\n",
        "* ***parametro**: Se antepone un asterisco al nombre del parámetro y cuando se llama a la función se pasa la cantidad variable de argumentos separados por comas. Los argumentos se guardan en una tupla que se asocia al parámetro.\n",
        "\n",
        "* ****parametro**: Se anteponen dos asteriscos al nombre del parámetro y en la invocación de la función se pasa la cantidad variable de argumentos por pares nombre = valor, separados por comas. Los argumentos se guardan en un diccionario (estructura de datos que no hemos desarrollado, pero sobre la cual puede encontrar información en la bibliografía propuesta) que se asocia al parámetro.\n",
        "\n",
        "En ambos casos, se trata de parámetros opcionales, es decir, se puede invocar a la función haciendo uso del mismo, o no. El número de argumentos al invocar a la función es variable. En el caso de ***parametro** son posicionales, por lo que, a diferencia de los parámetros con nombre, su valor depende de la posición en la que se pasen a la función.\n",
        "\n",
        "Para mostrar cómo se utilizan estos parámetros, veamos algunos ejemplos sencillos. Para ello vamos a suponer que codificamos una función para sumar, como la que se muestra a continuación:"
      ],
      "metadata": {
        "id": "FQEaJ-441kfM"
      }
    },
    {
      "cell_type": "code",
      "source": [
        "def sum(x, y):\n",
        "    return x + y\n",
        "\n",
        "# Llamada a la función con los valores x=2 e y=3\n",
        "print(\"2 + 3 =\", sum(2,3))"
      ],
      "metadata": {
        "colab": {
          "base_uri": "https://localhost:8080/"
        },
        "id": "nRRHEky33sry",
        "outputId": "6b3557b6-9af2-48df-8227-9b50c0c0cd15"
      },
      "execution_count": null,
      "outputs": [
        {
          "output_type": "stream",
          "name": "stdout",
          "text": [
            "2 + 3 = 5\n"
          ]
        }
      ]
    },
    {
      "cell_type": "markdown",
      "source": [
        "Si ahora queremos sumar 3 números en lugar de 2, tendremos que reformular nuestra función:"
      ],
      "metadata": {
        "id": "tbh000At5K-r"
      }
    },
    {
      "cell_type": "code",
      "source": [
        "def sum(x, y, z):\n",
        "    return x + y + z\n",
        "\n",
        "# Llamada a la función con los valores x=2, y=3, z=4\n",
        "print(\"2 + 3 + 4 =\", sum(2,3,4))"
      ],
      "metadata": {
        "colab": {
          "base_uri": "https://localhost:8080/"
        },
        "id": "aP1NTBCj5Uhh",
        "outputId": "8a7addf4-75fa-486e-a565-86e9c31e1a60"
      },
      "execution_count": null,
      "outputs": [
        {
          "output_type": "stream",
          "name": "stdout",
          "text": [
            "2 + 3 + 4 = 9\n"
          ]
        }
      ]
    },
    {
      "cell_type": "markdown",
      "source": [
        "Y si volvemos a cambiar la cantidad de datos a sumar, nuevamente tendríamos que modificar nuestra función. En este caso, utilizar ***parametro** en la definición de la función nos permite poder pasar tantos argumentos como queramos. "
      ],
      "metadata": {
        "id": "behsr5KB5pcK"
      }
    },
    {
      "cell_type": "code",
      "source": [
        "def sum(*valores):\n",
        "    suma = 0\n",
        "    for v in valores:\n",
        "        suma += v\n",
        "    return suma\n",
        "\n",
        "# Llamada a la función con 2 valores\n",
        "print(\"5 + 4 =\", sum(5,4))\n",
        "# Llamada a la función con 3 valores\n",
        "print(\"2 + 3 + 4 =\", sum(2,3,4))\n",
        "# Llamada a la función con 5 valores\n",
        "print(\"7 + 2 + 11 + 3 + 4 =\", sum(7,2,11,3,4))"
      ],
      "metadata": {
        "colab": {
          "base_uri": "https://localhost:8080/"
        },
        "id": "-q3esANh76xc",
        "outputId": "14091efc-c700-41c0-d096-064b706b60c5"
      },
      "execution_count": null,
      "outputs": [
        {
          "output_type": "stream",
          "name": "stdout",
          "text": [
            "5 + 4 = 9\n",
            "2 + 3 + 4 = 9\n",
            "7 + 2 + 11 + 3 + 4 = 27\n"
          ]
        }
      ]
    },
    {
      "cell_type": "markdown",
      "source": [
        "# Ámbito y ciclo de vida de las variables\n",
        "\n",
        "En cualquier lenguaje de programación de alto nivel, toda variable está definida dentro de un ámbito. Esto quiere decir que hay sitios (lugares del código) en los que la variable tiene sentido y puede ser utilizar.\n",
        "\n",
        "Los parámetros y variables definidos dentro de una función tienen un **ámbito local**, es decir, pertencen a la propia función. Por tanto, estos parámetros y variables no pueden ser utilizados fuera de la función porque no serían reconocidos.\n",
        "\n",
        "El ciclo de vida de una variable determina el tiempo en el que una variable permanece en memoria. Una variable dentro de una función existe en memoria durante el tiempo en que se está ejecutando dicha función. Una vez que termina la ejecución de la función, sus variables y parámetros desaparecen de memoria y, por tanto, no pueden ser referenciados.\n",
        "\n",
        "Las variables definidas fuera de una función tienen un ámbito conocido como **global** y son visibles dentro de las funciones, dónde sólo se puede consultar su valor."
      ],
      "metadata": {
        "id": "D2nPb_qv9FlT"
      }
    },
    {
      "cell_type": "code",
      "source": [
        "def muestra_x():\n",
        "    x = 10\n",
        "    print(\"x vale\",x)\n",
        "\n",
        "# Programa principal  \n",
        "x = 20\n",
        "muestra_x() # llamada a la función\n",
        "print(x)"
      ],
      "metadata": {
        "colab": {
          "base_uri": "https://localhost:8080/"
        },
        "id": "1Dqi3_p1-meX",
        "outputId": "0836c322-65eb-4e98-dd05-7546435d6b71"
      },
      "execution_count": null,
      "outputs": [
        {
          "output_type": "stream",
          "name": "stdout",
          "text": [
            "x vale 10\n",
            "20\n"
          ]
        }
      ]
    },
    {
      "cell_type": "markdown",
      "source": [
        "El print de la línea 3 muestra el valor de la variable local x, perteneciente a la función, ya que en la misma se crea una nueva variable x que, precisamente, tiene el mismo nombre que la variable definida fuera de la función. \n",
        "Pero el print de la línea 8 muestra el valor de la variable x del programa principal, pues una vez que la función termina, x hace referencia a la variable global definida fuera de la función.\n",
        "\n",
        "Las funciones pueden acceder a variables globales para consultar su valor."
      ],
      "metadata": {
        "id": "Je6lp03g-9r4"
      }
    },
    {
      "cell_type": "code",
      "source": [
        "def muestra_xy():\n",
        "    x = 10\n",
        "    print(\"x vale\",x)\n",
        "    print(\"y vale\",y)\n",
        "\n",
        "# Programa principal  \n",
        "x = 20\n",
        "y=5\n",
        "muestra_xy() # llamada a la función\n",
        "print(x)\n",
        "print(y)"
      ],
      "metadata": {
        "colab": {
          "base_uri": "https://localhost:8080/"
        },
        "id": "zEKNOrIp_8WG",
        "outputId": "dbe09ee3-e1a8-406d-87d3-7ceb5749da0d"
      },
      "execution_count": null,
      "outputs": [
        {
          "output_type": "stream",
          "name": "stdout",
          "text": [
            "x vale 10\n",
            "y vale 5\n",
            "20\n",
            "5\n"
          ]
        }
      ]
    },
    {
      "cell_type": "markdown",
      "source": [
        "# Funciones integradas\n",
        "\n",
        "El intérprete de Python tiene un conjunto de funciones que están siempre disponibles y nos permiten resolver fácilmente tareas sencillas, sin necesidad de importar módulos. Las funciones integradas también se denominan *built-in functions*.\n",
        "\n",
        "En uno de los ejemplos anteriores, codificamos una función para realizar la suma de una cantidad indeterminada de valores. Esto lo realizamos con fines didácticos, pues Python ya posee una función que realiza esta tarea: **sum()**. \n",
        "\n",
        "Puede consultar el listado de funciones integradas en el siguiente enlace: [Funciones Built-in](https://docs.python.org/es/3.8/library/functions.html)\n",
        "\n",
        "A continuación se muestra un ejemplo con llamadas a algunas de estas funciones: \n",
        "\n"
      ],
      "metadata": {
        "id": "QOxyAAK_ukmr"
      }
    },
    {
      "cell_type": "code",
      "source": [
        "lista = [2, 5, 3, 4, 6]\n",
        "suma=sum(lista)\n",
        "print(\"La suma es\", suma)\n",
        "print(\"El mayor valor de la lista es \", max(lista))\n",
        "print(\"El menor valor de la lista es \", min(lista))"
      ],
      "metadata": {
        "colab": {
          "base_uri": "https://localhost:8080/"
        },
        "id": "PCwWrvfouQgo",
        "outputId": "7d43fc45-2314-4c92-f2eb-30028538788d"
      },
      "execution_count": null,
      "outputs": [
        {
          "output_type": "stream",
          "name": "stdout",
          "text": [
            "La suma es 20\n",
            "El mayor valor de la lista es  6\n",
            "El menor valor de la lista es  2\n"
          ]
        }
      ]
    },
    {
      "cell_type": "markdown",
      "source": [
        "# Programación funcional\n",
        "\n",
        "En Python las funciones son objetos, por lo tanto, también pueden pasarse como argumentos a una función, de igual forma que se realiza con el resto de los tipos de datos."
      ],
      "metadata": {
        "id": "UchIBAvXIxos"
      }
    },
    {
      "cell_type": "code",
      "source": [
        "def aplica(funcion, argumento):\n",
        "    return funcion(argumento)\n",
        "\n",
        "def cuadrado(n):\n",
        "    return n*n\n",
        "def cubo(n):\n",
        "    return n**3\n",
        "\n",
        "# Programa principal \n",
        "n=int(input(\"Ingrese número: \"))\n",
        "o=int(input(\"Indique la operación a realizar: \\n 2 para cuadrado o \\n 3 para cubo \\n\"))\n",
        "if o==3:\n",
        "    print(\"El resultado es: \", aplica(cubo,n))\n",
        "else: \n",
        "    print(\"El resultado es:\", aplica(cuadrado,n))"
      ],
      "metadata": {
        "colab": {
          "base_uri": "https://localhost:8080/"
        },
        "id": "cnj3cyFdI1x6",
        "outputId": "289dc024-e3e6-49fc-f68b-e2d05296d712"
      },
      "execution_count": null,
      "outputs": [
        {
          "output_type": "stream",
          "name": "stdout",
          "text": [
            "Ingrese número: 5\n",
            "Indique la operación a realizar: \n",
            " 2 para cuadrado o \n",
            " 3 para cubo \n",
            "3\n",
            "El resultado es:  125\n"
          ]
        }
      ]
    },
    {
      "cell_type": "markdown",
      "source": [
        "# Módulos\n",
        "\n",
        "En general, las funciones que cumplen tareas comunes se \"agrupan\" en un único archivo de código fuente al que se denomina módulo. En el programa principal, luego, puede \"importar\" este código para su reutilización tantas veces como sea necesario. \n",
        "\n",
        "Especificamente, en Python, un módulo es un archivo con extensión .py que contiene instrucciones y definiciones (variables, funciones, etc). El nombre del archivo corresponderá al nombre módulo.\n",
        "\n",
        "Los módulos y paquetes en Python son la forma de organizar los códigos y programas para modularizar el algoritmo computacional. Tienen un doble propósito. Por un lado, dividir un programa con muchas líneas de código en partes más pequeñas. Y por otro, extraer un conjunto de definiciones, que se utilizan frecuentemente en diferentes programas, para ser reutilizadas. Esto último evita tener que estar copiando funciones de un programa a otro. Es una buena práctica que un módulo solo contenga instrucciones y definiciones que estén relacionadas entre sí. \n",
        "\n",
        "Para poder usar las definiciones de un módulo en el intérprete o en otro módulo, primero hay que importarlo. Para ello, se usa la palabra reservada **import** seguida del nombre del módulo. Una vez que un módulo ha sido importado, se puede acceder a sus definiciones a través del operador punto. \n",
        "\n",
        "Los  módulos y sus definiciones se pueden importar en el momento y lugar que se prefiera, pero es una buena práctica que aparezcan al principio.\n",
        "\n",
        "En el siguiente ejemplo se utiliza la constante 𝛑 del módulo math (math.pi) para poder calcular la longitud de la circunferencia de radio ingresado por consola.\n"
      ],
      "metadata": {
        "id": "nOuLVGSvH3AF"
      }
    },
    {
      "cell_type": "code",
      "source": [
        "import math\n",
        "radio = float(input(\"Ingrese el radio\"))\n",
        "circunf = 2 * radio * math.pi\n",
        "print (\"La circunferencia tiene una longitud de \", circunf)\n"
      ],
      "metadata": {
        "colab": {
          "base_uri": "https://localhost:8080/"
        },
        "id": "HNk2cLXtyixv",
        "outputId": "79011be0-e32a-40e3-98d9-803ae1394707"
      },
      "execution_count": null,
      "outputs": [
        {
          "output_type": "stream",
          "name": "stdout",
          "text": [
            "Ingrese el radio3\n",
            "La circunferencia tiene una longitud de  18.84955592153876\n"
          ]
        }
      ]
    },
    {
      "cell_type": "markdown",
      "source": [
        "También es posible importar sólo algunas de las definiciones de un un módulo. Esto se realiza mediante **from** *nombre_modulo* **import** *definicion*. En este caso, sólo podremos acceder a las definiciones que hayamos indicado. La ventaja es que nos permite acceder directamente a los nombres definidos en el módulo sin tener que utilizar el operador punto.\n",
        "\n",
        "\n",
        "Por último, utilizando la palabra reservada **as**, podemos redefinir el nombre con el que una definición será usada dentro de un módulo: **from** *nombre_modulo* **import** *definicion* **as** *otro_nombre*.\n",
        "\n",
        "En el siguiente ejemplo se importan desde el módulo math la constante 𝛑 (pi) y la función pow, que permite calcular potencias recibiendo como parámetros la base y el exponente, para códificar el algortimo que calcula el área de un círculo cuyo radio es ingresado por consola."
      ],
      "metadata": {
        "id": "GYz1ISLRyjw3"
      }
    },
    {
      "cell_type": "code",
      "source": [
        "from math import pow, pi\n",
        "radio = float(input(\"Ingrese el radio\"))\n",
        "area = pi * pow(radio,2)\n",
        "print(\"La superficie del cículo es \", area)"
      ],
      "metadata": {
        "colab": {
          "base_uri": "https://localhost:8080/"
        },
        "id": "iZQ5F-cu1J1G",
        "outputId": "65370d3b-9971-4012-e48c-040321fee52d"
      },
      "execution_count": null,
      "outputs": [
        {
          "output_type": "stream",
          "name": "stdout",
          "text": [
            "Ingrese el radio2\n",
            "La superficie del cículo es  12.566370614359172\n"
          ]
        }
      ]
    },
    {
      "cell_type": "markdown",
      "source": [
        "# Recursividad\n",
        "\n",
        "La recursividad es una técnica que permite definir una función en términos de sí misma. En otras palabras: una función es recursiva cuando se invoca a sí\n",
        "misma.\n",
        "\n",
        "Python, como otros lenguajes de programación de alto nivel, admite el uso de funciones recursivas: cualquier función puede incluir en su código una invocación a sí misma. Esta llamada puede ser \"directa\" si la función se llama directamente a sí misma, o \"indirecta\" si la función llama a otra función que a su vez invoca a la primera. En cualquiera de los casos, es necesaria una condición de parada o finalización.\n",
        "\n",
        "Como ventaja de esta técnica podemos destacar que permite en algunos casos\n",
        "resolver elegantemente algoritmos complejos. Como desventaja debemos decir\n",
        "que los procedimientos recursivos son menos eficientes (en términos de\n",
        "velocidad de ejecución) que los no recursivos.\n",
        "\n",
        "Los algoritmos recursivos surgen naturalmente de muchas definiciones que se\n",
        "plantean conceptualmente como recursivas. Por ejemplo, el caso del factorial de\n",
        "un número: por definición es el producto de dicho número por todos los factores\n",
        "consecutivos y decrecientes a partir de ese número, hasta la unidad:\n",
        "\n",
        "\\\\begin{equation} n! = n (n-1) (n-2) ⋯ 2 \\cdot 1\\end{equation}\n",
        "\n",
        "Por ejemplo: \\\\begin{equation} 5! = 5 \\cdot 4 \\cdot 3 \\cdot 2 \\cdot 1\\end{equation}\n",
        "Pero el producto $ 4 \\cdot 3 \\cdot 2 \\cdot 1 $ es  $4!$\n",
        "Por lo tanto podemos escribir: $5! = 5 \\cdot 4!$"
      ],
      "metadata": {
        "id": "1oDh9Ri4u2C0"
      }
    },
    {
      "cell_type": "code",
      "source": [
        "def factorial(n):\n",
        "    if n==0:\n",
        "        return 1\n",
        "    else: \n",
        "        return n*factorial(n-1)\n",
        "\n",
        "# Programa principal\n",
        "print(\"El factorial de 5 es:\",factorial(5))"
      ],
      "metadata": {
        "colab": {
          "base_uri": "https://localhost:8080/"
        },
        "id": "cB7q5nuQyrZD",
        "outputId": "95e5a740-8d55-4e42-b49e-ff6adee3e7e2"
      },
      "execution_count": null,
      "outputs": [
        {
          "output_type": "stream",
          "name": "stdout",
          "text": [
            "El factorial de 5 es: 120\n"
          ]
        }
      ]
    },
    {
      "cell_type": "markdown",
      "source": [
        "Observe que en la función recursiva existe una condición `(x==0)` que permite\n",
        "abandonar el proceso recursivo cuando la expresión relacional arroje verdadero;\n",
        "de otro modo el proceso sería infinito.\n",
        "\n",
        "Una función recursiva debe cumplir las siguientes condiciones:\n",
        "\n",
        "1.   Realizar llamadas a sí misma para efectuar versiones reducidas de la misma tarea.\n",
        "\n",
        "2.   Incluir uno o más casos donde la función realice su tarea sin emplear una\n",
        "llamada recursiva, permitiendo detener la secuencia de llamadas (condición de detención o stop).\n",
        "\n",
        "En el ejemplo del factorial de un número, la expresión `x*factorial(x-1)` corresponde al requisito 1 y la expresión `x==0` al segundo\n",
        "requisito.\n"
      ],
      "metadata": {
        "id": "pqLUqnnhzrTj"
      }
    }
  ]
}