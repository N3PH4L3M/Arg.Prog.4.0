{
  "nbformat": 4,
  "nbformat_minor": 0,
  "metadata": {
    "colab": {
      "provenance": []
    },
    "kernelspec": {
      "name": "python3",
      "display_name": "Python 3"
    },
    "language_info": {
      "name": "python"
    }
  },
  "cells": [
    {
      "cell_type": "markdown",
      "source": [
        "# Archivos\n",
        "\n",
        "## Introducción\n",
        "\n",
        "Hasta el  momento, la información de entrada que manejan los programas la hemos ingresado a través de un sistema o proceso de lectura (`input`). Esa información puede ser incorporada por medio del teclado o mediante procesos interactivos a través de alguna interfaz de usuario, y es almacenada en la memoria principal de la computadora. \n",
        "\n",
        "Pero mucha de la información que alimenta a los programas no puede ser ingresada interactivamente cada vez que se inicia un programa. ¿Por qué razón? Por lo engorroso e ineficiente del sistema y porque la memoria principal de la computadora tiene una capacidad limitada.\n",
        "\n",
        "Por ejemplo, imaginemos el caso de una empresa que posee un sistema informático\n",
        "que maneja una cartera de 1000 clientes: sería impensable (al iniciar la jornada de trabajo) que el encargado de utilizar el software ingresara los datos de cada uno de los 1000 clientes de la empresa: apellido, nombres, DNI, dirección, localidad, fecha de nacimiento, datos laborales, saldo deudor, etc., cada día. Estos datos, que tienen un alto grado de permanencia en el tiempo, deben conservarse de alguna forma en algún soporte para que el programa acceda a ellos cuando los necesita. Esta información almacenada en forma permanente conforma estructuras denominadas archivos de datos.\n",
        "\n",
        "¿Cómo llegaron los datos a esos archivos? Del mismo modo que existen procesos en\n",
        "un programa para ingresar datos, hay otros procesos que permiten sacar (output)\n",
        "datos del programa para ubicarlos en soportes de almacenamiento permanente (disco rígido, pendrive, tarjeta de memoria, etc.) controlados por dispositivos que se conectan a nuestra computadora. \n",
        "\n",
        "## Conceptos básicos\n",
        "### ¿Qué es un archivo?\n",
        "Definimos como archivo (también denominados fichero) a la estructura de información, compueta de una secuencia de bytes (secuencias de unos y ceros), que está relacionada, y es almacenada en forma permanente e independiente del programa que la utiliza.  \n",
        "\n",
        "###Características de los archivos\n",
        "* Siempre se hallan almacenados en soportes o dispositivos externos a la computadora.\n",
        "* La información que contienen es independiente del programa que la utiliza.\n",
        "* Los programas de tratamiento que acceden a esta información lo hacen a través de unidades lógicas: registros, variables simples, líneas.\n",
        "* La información guardada en los archivos es permanente, hasta tanto una acción de un programa la modifique.\n",
        "\n",
        "###Permanencia de la información de un archivo.\n",
        "Los archivos contienen información que puede permanecer invariable en un lapso grande de tiempo, pero también pueden contener datos que deben actualizarse con cierta frecuencia; esto último se realiza a través de la información que se incorpora desde otros archivos o de datos que se ingresan interactivamente a través de alguna interfaz de usuario.\n",
        "\n",
        "Las modificaciones de los datos de un archivo, que puede hacer un programa, está\n",
        "supeditada a las características del soporte; por ejemplo, un CD Rom no permite que se re-escriba sobre él.\n",
        "\n",
        "###Soportes de almacenamiento\n",
        "Los archivos se almacenan en diferentes medios o soportes: discos rígidos (internos o externos, magnéticos o de estado sólido), memorias flash (pendrives, tarjetas de memoria), cintas magnéticas, CD Roms, etc., los cuales son controlados por dispositivos externos a la computadora: controladores del disco rígido, lector/grabador de CD, etc.\n",
        "\n",
        "Habitualmente los archivos que son accedidos por los programas se almacenan en el disco de la computadora (disco rígido) y los otros medios se utilizan como soporte portable para llevar información de un lado a otro y como soporte de resguardo de información (*backup*). Además, el disco es de gran capacidad y vida útil al lado de los otros medios.\n",
        "\n",
        "Un soporte también puede definir el modo en que el programa accede a los datos de un archivo. Por ejemplo: las cintas magnéticas no son direccionables y solo pueden ser accedidas secuencialmente; los CD ROMs solo pueden ser accedidos para operar archivos de entrada (lectura), pero son direccionales y admiten acceso directo a sus datos; los discos rígidos y las memorias flash son de lecto-escritura y direccionables.\n",
        "\n",
        "###Tipos de archivos\n",
        "Los archivos pueden clasificarse según la forma en que se organiza la información que contienen y la forma en que se accede a los datos. Tenemos:\n",
        "* **Archivos secuenciales**: se acceden desde el primer registro de información en adelante.\n",
        "* **Archivos de acceso directo**: permiten un posicionamiento directo sobre un\n",
        "registro. Requieren que el soporte admita este direccionamiento.\n",
        "* **Archivos secuenciales indexados**: se almacenan secuencialmente pero admiten\n",
        "el acceso selectivo a través de tablas de índices que facilitan la clasificación y acceso a los datos. \n",
        "\n",
        "###Archivo Físico y Lógico \n",
        "Como se ha mencionado, los archivos se hallan soportados en algún medio físico\n",
        "(disco, memoria flash, etc.). El archivo físico es la unión de la información del archivo y su soporte. Ambos son identificados por el sistema operativo con una ruta de ubicación (*path* en inglés) y un nombre. Este nombre debe respetar las reglas sintácticas del sistema operativo. Por ejemplo, para identificar al archivo datos.txt que se encuentra en la carpeta trabajos que es hija de la carpeta Mis Documentos del disco C, debemos escribir: `C:\\Mis Documentos\\Trabajos\\Datos.txt`\n",
        "\n",
        "El archivo lógico, en cambio, es un objeto dentro del programa que representa al archivo físico. Este objeto es definido en el programa con un nombre acorde a la sintaxis de identificadores del lenguaje (Python en nuestro caso). Por ejemplo: `archi` es un identificador válido para representar cualquier archivo.\n",
        "\n",
        "En el programa debemos relacionar el objeto o archivo lógico con el archivo\n",
        "físico. Una vez establecida esa relación, que habitualmente se hace en la apertura del archivo, toda referencia sobre el archivo lógico implicará \n",
        "\n",
        "1. una conexión con el dispositivo que controla el soporte y \n",
        "\n",
        "2. una determinada operación sobre el archivo físico.\n",
        "\n",
        "###Unidades de información de un archivo\n",
        "\n",
        "Los archivos físicos son una secuencia de bytes, pero los programas que los generan pueden utilizar unidades lógicas o componentes para accederlos. Si conocemos la estructura de las unidades lógicas que forman el archivo podemos leer esa información en forma ordenada a través de un programa, e identificar los datos almacenados.\n",
        "\n",
        "Estas unidades lógicas o componentes pueden ser:\n",
        "\n",
        "* **líneas**:  es el caso típico de los archivos de texto. Su longitud es variable y existe un caracter o marca que indica el final de cada línea.\n",
        "\n",
        "* **registros de estructura fija**: se utiliza al organizar los datos de muchas unidades de información de igual estructura, como por ejemplo; los datos de los clientes de una empresa, donde se requiere de todos ellos: apellido, nombres, DNI, fecha nacimiento, etc. Cada cliente requiere una cantidad fija de bytes.\n",
        "\n",
        "* **registros de estructura variable**: este caso es posible si se indica en cada registro su longitud. Permite optimizar el espacio en el soporte del archivo pero es más complejo el algoritmo de acceso.\n",
        "\n",
        "* **sin unidades lógicas definidas**: el archivo no tiene identificadas unidades o componentes; es el caso de un archivo que constituye una única unidad lógica, como por ejemplo una imagen capturada por algún dispositivo (scanner, cámara digital, etc.).\n",
        "\n"
      ],
      "metadata": {
        "id": "SnmYHVOlT5rS"
      }
    },
    {
      "cell_type": "markdown",
      "source": [
        "# Apertura de archivos en Python\n",
        "\n",
        "Para poder interactuar con la información de un archivo, primero es necesario abrirlo.\n",
        "\n",
        "La apertura de un archivo se realiza mediante la función **open()**, que retorna un objeto archivo. Esta función se usa normalmente con dos argumentos: **open(nombre_de_archivo, modo)**.\n",
        "\n",
        "El primer argumento es una cadena que contiene el nombre del archivo físico que se va a leer o escribir. \n",
        "\n",
        "El segundo argumento es otra cadena que contiene caracteres que  describen la forma en que el archivo será usado. **modo** puede ser:\n",
        "\n",
        "* **'r'**: cuando el archivo sólo se accede para leerlo, \n",
        "* **'w'**: cuando se accede para escribirlo (si existe un archivo con el mismo nombre, éste se borrará) y \n",
        "* **'a'**: para abrir el archivo y añadirle información, manteniendo los datos originales. Cualquier dato que se escribe en el archivo se añade automáticamente al final. \n",
        "* **'r+'** abre el archivo tanto para lectura como para escritura. El signo **+** permite realizar ambas operaciones.\n",
        "\n",
        "El argumento **modo** es opcional y se omite, por defecto, usará **'r'**. No obstante, es una buena práctica indicarlo para darle a entender a otras personas que lean nuestro código que estamos accediendo al archivo sólo para leerlo.\n",
        "\n",
        "A cada una de las opciones de **modo** se le puede añadir otra correspondiente al tipo de archivo a procesar.\n",
        "\n",
        "## Tipos de archivos\n",
        "Los archivos en Python están categorizados en **archivos de texto** o **archivos binarios**, la diferencia entre estos dos tipos de archivos es de vital importancia al momento de manipularlos.\n",
        "\n",
        "\n",
        "\n",
        "* ### Archivos de texto\n",
        "\n",
        "> Los **archivos de texto** están formados por una secuencia de líneas, donde cada línea incluye una secuencia de carácteres. Cuando un archivo se abre en \"modo texto\" (**'t'**), la secuencia de bytes se interpreta utilizando algún sistema de codificación de caracteres. En Python, normalmente se utilizará la codificación UTF-8 (estándar internacional). Por lo tanto el contenido del archivo se convierte a cadenas de caracteres (`str`).\n",
        "\n",
        "> Cada línea del **archivos de texto** finaliza con un carácter especial, llamado EOL(End of Line) o carácter de fin de línea. Hay varios tipos de carácteres de fin de línea pero el más común es el carácter de salto de línea (\\n).\n",
        "\n",
        "> A menudo, los **archivos de texto** se denominan como texto plano, pues carecen de todo formato o encriptación de seguridad. Y al estar formados por elementos estándares les da una completa portabilidad, pudiendo ser utilizados en cualquier plataforma, aplicación o herramienta de software.\n",
        "\n",
        "> El acceso a la información de un archivo de texto es secuencial y los datos no tienen que estar dispuestos en una estructura lógica. Solo se pueden identificar líneas y separadores. \n",
        "\n",
        "> Por defecto, la apertura de los archivos se realiza en modo texto, a menos que se indique lo contrario. Por lo tanto, indicar el modo **'t'** es opcional.\n",
        "\n",
        "* ### Archivos binarios\n",
        "\n",
        ">Un **archivo binario** es cualquier tipo de archivo que no es un archivo de texto. A causa de su naturaleza, los archivos binarios solo pueden ser procesados por una aplicación que conozca o entienda la estructura del mismo. En otras palabras, deben ser aplicaciones que puedan leer e interpretar binario.\n",
        "\n",
        ">Cuando un archivo digital se abre en \"modo binario\" (**'b'**) el contenido se lee como bytes sin ninguna conversión de datos. Por lo tanto, se debe indicar explícitamente cómo deben interpretarse las secuencias de bytes dentro del archivo. Es decir, se debe conocer en detalle la organización de las secuencias de bits o bytes dentro del archivo.\n",
        " \n"
      ],
      "metadata": {
        "id": "wS1brE7jQ_3f"
      }
    },
    {
      "cell_type": "markdown",
      "source": [
        "La acción de apertura de un archivo implica automáticamente los siguiente:\n",
        "\n",
        "* Asociar el nombre lógico del programa al nombre físico del archivo.\n",
        "* Comunicar al programa con el dispositivo que controla el soporte del archivo\n",
        "disponiendo de recursos en la computadora para este fin.\n",
        "* Efectuar el posicionamiento inicial del dispositivo de lectura y/o escritura en el soporte del archivo."
      ],
      "metadata": {
        "id": "lOjSFtW6Jd-t"
      }
    },
    {
      "cell_type": "code",
      "source": [
        "#Directivas para permitir a Colab acceder a los archivos guardados en Drive\n",
        "from google.colab import drive\n",
        "drive.mount('/content/drive')\n",
        "\n",
        "#Código para abrir un archivo en Python\n",
        "archi=open('/content/drive/My Drive/Listado.txt')"
      ],
      "metadata": {
        "id": "fbyUkD6_wS2a"
      },
      "execution_count": null,
      "outputs": []
    },
    {
      "cell_type": "markdown",
      "source": [
        "# Lectura\n",
        "\n",
        "Existen muchos modos de leer un archivo en Python.\n",
        "\n",
        "* **read(size)**\n",
        "\n",
        "* **readline()** \n",
        "\n",
        "* **readlines()**\n"
      ],
      "metadata": {
        "id": "aeOFkutfDa-W"
      }
    },
    {
      "cell_type": "markdown",
      "source": [
        "El método **readline()** lee una sola linea del archivo. La lectura conserva el carácter de fin de linea (`'\\n'`) al final de la cadena. Este caracter sólo se omite en la última linea del archivo, si el mismo no termina en un fin de linea. \n",
        "\n",
        "Esto hace que el valor de retorno de **readline()** no sea ambiguo. Si retorna una cadena vacía, es que se alcanzó el fin del archivo, mientras que una linea en blanco es representada por '\\n', una cadena conteniendo sólo un único fin de linea.\n"
      ],
      "metadata": {
        "id": "-OdVFS1RMfQ9"
      }
    },
    {
      "cell_type": "code",
      "source": [
        "linea=archi.readline()\n",
        "print(linea)\n",
        "archi.close()"
      ],
      "metadata": {
        "colab": {
          "base_uri": "https://localhost:8080/"
        },
        "id": "RWnOLAZ6LjMc",
        "outputId": "d8ec2f1d-9fad-47df-bf66-3cefea1af7da"
      },
      "execution_count": null,
      "outputs": [
        {
          "output_type": "stream",
          "name": "stdout",
          "text": [
            "Lopez Javier\n",
            "\n"
          ]
        }
      ]
    },
    {
      "cell_type": "markdown",
      "source": [
        "En este ejemplo se muestra una de las líneas del archivo `Listado.txt`, que contiene una lista de nombres.\n",
        "\n",
        "Para leer varias líneas del archivo, es posible iterar sobre el objeto utilizando un bucle **for**. \n",
        "\n",
        "```\n",
        "for linea in archi:\n",
        "   print(linea)\n",
        "```\n",
        "\n",
        "Este es un código simple, eficiente y rápido. \n",
        "\n",
        "\n",
        "\n",
        "---\n",
        "\n",
        "\n",
        "\n",
        "Existe una forma recomendada de abrir y leer un archivo y es haciendo uso de **with**.\n",
        "\n",
        "\n"
      ],
      "metadata": {
        "id": "QUoWhiaZRCQc"
      }
    },
    {
      "cell_type": "code",
      "source": [
        "with open('/content/drive/My Drive/Listado.txt') as archi:\n",
        "  for linea in archi:\n",
        "    print(linea)"
      ],
      "metadata": {
        "colab": {
          "base_uri": "https://localhost:8080/"
        },
        "id": "pJ57JBIIVtjL",
        "outputId": "d4e33a14-d641-4151-bb1e-a03af214c35f"
      },
      "execution_count": null,
      "outputs": [
        {
          "output_type": "stream",
          "name": "stdout",
          "text": [
            "Lopez Javier\n",
            "\n",
            "Garcia Ana\n",
            "\n",
            "Farias Daniel\n",
            "\n",
            "Zapata Mateo\n",
            "\n",
            "Tarabini Luciana\n",
            "\n",
            "Gonzales Maria\n",
            "\n",
            "Vazques Jorge\n"
          ]
        }
      ]
    },
    {
      "cell_type": "markdown",
      "source": [
        "\n",
        "Es una buena práctica usar la declaración **with** cuando manejamos objetos archivo. Se usa para el manejo de errores y tiene la ventaja que el archivo es cerrado apropiadamente luego de que el bloque termina, incluso si se generó una excepción. \n",
        "\n",
        "---\n",
        "\n",
        "Si necesitamos extraer una cadena que contenga todos los carácteres del archivo, podemos hacerlo usando el método **read()**. Este método leerá el archivo en su totalidad y lo devolverá como una cadena de texto. Este método debe ser utilizado con precaución, ya que puede consumir mucha memoria si el archivo es demasiado grande. \n",
        "\n",
        "**size** es un argumento numérico opcional, que permite leer una cantidad determinada de datos y los retorna como una cadena de caracteres (en modo texto) o un objeto de bytes (en modo binario).\n",
        "\n",
        "Si volvemos a llamar a **read()** se retornaría una cadena vacía, debido a que ya se ha leído todo el contenido del archivo.\n",
        "\n"
      ],
      "metadata": {
        "id": "aAYSK7VaW15a"
      }
    },
    {
      "cell_type": "code",
      "source": [
        "archi=open('/content/drive/My Drive/Listado.txt')\n",
        "info=archi.read()\n",
        "print(info)\n",
        "archi.close()"
      ],
      "metadata": {
        "colab": {
          "base_uri": "https://localhost:8080/"
        },
        "id": "u1YYtlhfLNTV",
        "outputId": "145b1e5f-b654-4d8d-c8f3-dc8fc5caf012"
      },
      "execution_count": null,
      "outputs": [
        {
          "output_type": "stream",
          "name": "stdout",
          "text": [
            "Lopez Javier\n",
            "Garcia Ana\n",
            "Farias Daniel\n",
            "Zapata Mateo\n",
            "Tarabini Luciana\n",
            "Gonzales Maria\n",
            "Vazques Jorge\n"
          ]
        }
      ]
    },
    {
      "cell_type": "markdown",
      "source": [
        "También es posible leer todas las líneas de un archivo y organizarlas en una lista. Para ello se puede usar **list(archi)** o **archi.readlines()**."
      ],
      "metadata": {
        "id": "Zjg_ddsaREkj"
      }
    },
    {
      "cell_type": "code",
      "source": [
        "with open('/content/drive/My Drive/Listado.txt') as archi:\n",
        "  lista=archi.readlines()\n",
        "print(lista)"
      ],
      "metadata": {
        "colab": {
          "base_uri": "https://localhost:8080/"
        },
        "id": "QYsMsNf8Yltj",
        "outputId": "cc70660b-69da-4f6e-805f-5d5052141c89"
      },
      "execution_count": null,
      "outputs": [
        {
          "output_type": "stream",
          "name": "stdout",
          "text": [
            "['Lopez Javier\\n', 'Garcia Ana\\n', 'Farias Daniel\\n', 'Zapata Mateo\\n', 'Tarabini Luciana\\n', 'Gonzales Maria\\n', 'Vazques Jorge']\n"
          ]
        }
      ]
    },
    {
      "cell_type": "markdown",
      "source": [
        "# Escritura\n",
        "\n",
        "Para escribir el archivo se utiliza el método **write(cadena)**, el cual escribe **cadena** dentro del archivo. \n",
        "\n",
        "**cadena** debe ser un tipo **str**. Otros tipos de objetos necesitan ser convertidos a una cadena, cuando abrimos el archivo en modo texto, o a un objeto de bytes en modo binario, antes de escribirlos.\n",
        "\n",
        "Es importarte que el modo de apertura del archivo sea uno que permita la escritura, como **'w'**, **a** o **'r+'**.\n"
      ],
      "metadata": {
        "id": "4XsyprvMDhT9"
      }
    },
    {
      "cell_type": "code",
      "source": [
        "with open('/content/drive/My Drive/Salida.txt', 'w') as archi:\n",
        "    archi.write('Hola mundo!\\n')\n",
        " # Comprobamos la escritura del archivo \n",
        "with open('/content/drive/My Drive/Salida.txt') as archi:\n",
        "    contenido=archi.read() \n",
        "print(contenido)      "
      ],
      "metadata": {
        "colab": {
          "base_uri": "https://localhost:8080/"
        },
        "id": "CYw2XM3ibrWT",
        "outputId": "7c2c8e5d-493b-40b5-d144-ec46146b4b48"
      },
      "execution_count": null,
      "outputs": [
        {
          "output_type": "stream",
          "name": "stdout",
          "text": [
            "Hola mundo\n",
            "\n"
          ]
        }
      ]
    },
    {
      "cell_type": "markdown",
      "source": [
        "# Cerrar archivos\n",
        "\n",
        "La forma preferida para cerrar un archivo es usando el método **close()**.\n",
        "\n",
        "Si la apertura del archivo no se realiza utilizando la palabra clave **with**, entonces se debe llamar a **close()** para cerrar el archivo y liberar los recursos utilizados por el sistema.\n",
        "\n",
        "Es importante llamar a **close()** cuando se realiza la escritura o modificación del archivo. Si no se llama a **close()** o no se utiliza la palabra clave **with**  podría dar como resultado que la información no se escriba completamente en el disco, incluso si el programa se cierra correctamente.\n",
        "\n",
        "Después de que un objeto archivo es cerrado, ya sea por with o llamando a close(), ya no se puede acceder a la información del archivo físico, e intentar leerlo o escribirlo causará error."
      ],
      "metadata": {
        "id": "040Rfk6CDmF9"
      }
    },
    {
      "cell_type": "code",
      "source": [
        "#Directivas para permitir a Colab acceder a los archivos guardados en Drive\n",
        "from google.colab import drive\n",
        "drive.mount('/content/drive')\n",
        "\n",
        "#Código para abrir un archivo en Python\n",
        "archi=open('/content/drive/My Drive/Notas.txt')\n"
      ],
      "metadata": {
        "colab": {
          "base_uri": "https://localhost:8080/"
        },
        "id": "N4ntEWBaSzEU",
        "outputId": "07952a1c-1a84-42ed-8a78-0017ada70f35"
      },
      "execution_count": null,
      "outputs": [
        {
          "output_type": "stream",
          "name": "stdout",
          "text": [
            "Drive already mounted at /content/drive; to attempt to forcibly remount, call drive.mount(\"/content/drive\", force_remount=True).\n"
          ]
        }
      ]
    },
    {
      "cell_type": "markdown",
      "source": [
        "# Archivos CSV\n",
        "Un archivo CSV (Comma Separeted Values - Valores separados por coma) es un archivo que posee información estructurada. Es decir, la información allí guardada representa una tabla de datos donde los valores de cada columna de la misma está delimitado por el elemento separador de columnas que puede ser: coma, punto y coma, espacio, etc.\n",
        "\n",
        "Ejemplo de contenido de un archivo csv sin nombre de columnas\n",
        "\n",
        "\n",
        "12;34;23\n",
        "\n",
        "\n",
        "5;56;22\n",
        "\n",
        "\n",
        "Ejemplo de contenido de un archivo csv con nombre de columnas\n",
        "\n",
        "\n",
        "Coord x; Coord y; Coord z\n",
        "\n",
        "\n",
        "12;34;23\n",
        "\n",
        "\n",
        "5;56;22\n",
        "\n",
        "\n",
        "#Leer Archivos CSV usando string\n",
        "\n",
        "Para leer un archivo csv se utilizan las mismas funciones de apertura y lectura que las vistas hasta este momento, procediendo a leer cada línea en un string y luego utilizando la función split de los string para separar los valores.\n",
        "\n",
        "Archivo a leer:\n",
        "\n",
        "Nombre;Nota1;Nota2\n",
        "\n",
        "Pedro;92;78\n",
        "\n",
        "Ivana;100;89"
      ],
      "metadata": {
        "id": "6f3tOefaS8-R"
      }
    },
    {
      "cell_type": "code",
      "source": [
        "lista_alumnos = []\n",
        "with open('/content/drive/My Drive/Notas.txt', \"r\") as archivo:\n",
        "    # leer encabezado\n",
        "    columnas = archivo.readline()\n",
        "    # Eliminamos el caracter de fin de línea\n",
        "    columnas = columnas.rstrip(\"\\n\")\n",
        "    # Separamos los nombres de las columnas\n",
        "    columnas = columnas.split(\";\")\n",
        "    for linea in archivo:\n",
        "        # Separamos la línea con split\n",
        "        datos = linea.split(\";\")\n",
        "        # convertimos los datos según su tipo\n",
        "        nombre = datos[0]\n",
        "        nota1 = int(datos[1])\n",
        "        nota2 = int(datos[2])\n",
        "        # Agregamos la información a una lista\n",
        "        lista_alumnos.append([nombre, nota1, nota2])\n",
        "\n",
        "print(columnas)\n",
        "print(lista_alumnos)"
      ],
      "metadata": {
        "colab": {
          "base_uri": "https://localhost:8080/"
        },
        "id": "E8nI3lUgTLWl",
        "outputId": "4b0a084a-c279-4894-d57a-26917bc48d1a"
      },
      "execution_count": null,
      "outputs": [
        {
          "output_type": "stream",
          "name": "stdout",
          "text": [
            "['Nombre', 'Nota1', 'Nota2']\n",
            "[['Pedro', 92, 78], ['Ivana', 100, 89]]\n"
          ]
        }
      ]
    },
    {
      "cell_type": "markdown",
      "source": [
        "# Leer un archivo csv con el módulo CSV\n",
        "\n",
        "Python posee un módulo nativo llamado CSV que permite realizar la lectura de un archivo estructurado csv con mayor facilidad, debido a que automáticamente el módulo interpreta la lectura de las columnas separadas por un caracter particular y divide automáticamente la información contenida en cada línea del archivo.\n",
        "\n",
        "Para utilizar el módulo, debemos realizar el correspondiente import, posteriormente abrimos normalmente el archivo y a continuación y por única vez, creamos un objeto que realizará la interpretación de cada línea del archivo como un conjunto de datos separados por el delimitador que le indiquemos.\n",
        "\n",
        "Para ello utilizamos la siguiente función:\n",
        "\n",
        "*interprete = csv.reader(archivo, delimiter=\";\")*\n"
      ],
      "metadata": {
        "id": "0rFBlhl-TPda"
      }
    },
    {
      "cell_type": "code",
      "source": [
        "import csv\n",
        "\n",
        "listado_alumnos = []\n",
        "\n",
        "with open('/content/drive/My Drive/Notas.txt', \"r\") as archivo:\n",
        "    # creamos al intérprete del archivo csv\n",
        "    interprete = csv.reader(archivo, delimiter=\";\")\n",
        "    # leemos la primer línea con los nombres de las columnas y pasamos a la línea siguiente\n",
        "    columnas = next(interprete)\n",
        "    for fila in interprete:\n",
        "        # fila posee separado los datos de cada columna del archivo y \n",
        "        # al estar en un ciclo fila tomará los valores de cada fila del arhcivo\n",
        "        nombre = fila[0]\n",
        "        nota1 = int(fila[1])\n",
        "        nota2 = int(fila[2])\n",
        "        listado_alumnos.append([nombre,nota1,nota2])\n",
        "\n",
        "print(columnas)\n",
        "print(listado_alumnos)"
      ],
      "metadata": {
        "colab": {
          "base_uri": "https://localhost:8080/"
        },
        "id": "3cLObtO8TZPI",
        "outputId": "fbe34dc7-501f-4fa6-f90a-0ae1621c78e1"
      },
      "execution_count": null,
      "outputs": [
        {
          "output_type": "stream",
          "name": "stdout",
          "text": [
            "['Nombre', 'Nota1', 'Nota2']\n",
            "[['Pedro', 92, 78], ['Ivana', 100, 89]]\n"
          ]
        }
      ]
    },
    {
      "cell_type": "markdown",
      "source": [
        "# Escribir archivo csv con el módulo CSV\n",
        "Utilizaremos el mismo módulo CSV pero crearemos un objeto que será el responsable de realizar la escritura de todas las líneas del archivo interponiendo el caracter delimitador de columnas donde corresponda.\n",
        "\n",
        "*escritor = csv.writer(archivo, delimiter=\";\")*\n"
      ],
      "metadata": {
        "id": "rD9iG2fXTdKi"
      }
    },
    {
      "cell_type": "code",
      "source": [
        "import csv\n",
        "\n",
        "listado_alumnos = [[\"Pedro\", 92, 78],\n",
        "                   [\"Ivana\", 100, 89]]\n",
        "\n",
        "columnas = [\"Nombre\", \"Nota 1\", \"Nota 2\"]\n",
        "\n",
        "with open(\"Notas.csv\", \"w\", newline = \"\") as archivo:\n",
        "    # creamos al escritor del archivo CSV\n",
        "    escritor = csv.writer(archivo, delimiter=\";\")\n",
        "    # escribimos la lista de nombres de columnas en una sóla fila\n",
        "    escritor.writerow(columnas)\n",
        "    # escribimos toda la lista de datos en varias filas\n",
        "    escritor.writerows(listado_alumnos)\n",
        "print(\"Archivo guardado con éxito!!\")"
      ],
      "metadata": {
        "colab": {
          "base_uri": "https://localhost:8080/"
        },
        "id": "OPaGr40gTjOA",
        "outputId": "babbd99e-d493-42f2-8709-31ec94d22cae"
      },
      "execution_count": null,
      "outputs": [
        {
          "output_type": "stream",
          "name": "stdout",
          "text": [
            "Archivo guardado con éxito!!\n"
          ]
        }
      ]
    }
  ]
}