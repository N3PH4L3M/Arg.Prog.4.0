{
  "nbformat": 4,
  "nbformat_minor": 0,
  "metadata": {
    "colab": {
      "provenance": [],
      "include_colab_link": true
    },
    "kernelspec": {
      "name": "python3",
      "display_name": "Python 3"
    },
    "language_info": {
      "name": "python"
    }
  },
  "cells": [
    {
      "cell_type": "markdown",
      "metadata": {
        "id": "view-in-github",
        "colab_type": "text"
      },
      "source": [
        "<a href=\"https://colab.research.google.com/github/N3PH4L3M/Arg.Prog.4.0/blob/main/Estructuras_de_control_Iterativas.ipynb\" target=\"_parent\"><img src=\"https://colab.research.google.com/assets/colab-badge.svg\" alt=\"Open In Colab\"/></a>"
      ]
    },
    {
      "cell_type": "markdown",
      "source": [
        "# Estructuras iterativas\n",
        "\n",
        "Otra de las **estructuras de control** que habitualmente encontramos en los lenguajes de programación son los bucles o estructuras iterativas, también denominados ciclos o estructuras repetitivas. Éstos se utiliza para ejecutar un bloque de instrucciones de forma continuada una determinada cantidad de veces o mientras se cumpla una condición determinada. \n",
        "\n",
        "En Python tenemos dos sentencias para implementar bucles: \n",
        "\n",
        "*   while\n",
        "*   for"
      ],
      "metadata": {
        "id": "wSaivzfh4dUw"
      }
    },
    {
      "cell_type": "markdown",
      "source": [
        "# Bucle while\n",
        "\n",
        "La sentencia o bucle while en Python es una estructura de control de flujo que nos permite ejecutar un bloque de instrucciones de forma continuada mientras se cumpla una condición determinada. O sea, el ciclo while en Python se usa para iterar sobre un bloque de código siempre que una condición sea verdadera.\n",
        "\n",
        "Generalmente usamos este ciclo cuando no sabemos a priori la cantidad de veces que debemos repetir las sentencias. La estructura de **while** es la siguiente:\n",
        "    \n",
        "    while condicion:\n",
        "      declaraciones del while\n",
        "\n",
        "En el ciclo while, la condición se comprueba primero. Se ingresa al bloque del while solo si la condición se evalúa como verdadera. Después de una iteración, se vuelve a comprobar la condición. Este proceso continúa hasta que la condición se evalúa como falsa.\n",
        "\n",
        "Es decir, mientras **condición** se evalúe como verdadera, se ejecutarán las **declaraciones del while** (instrucciones y sentencias de bloque de código), **condición** puede ser un literal, el valor de una variable, el resultado de una expresión o el valor devuelto por una función.\n",
        "\n",
        "En Python, el cuerpo del bucle while se determina mediante indentación. El bloque comienza con indentación y la primera línea sin indentar marca el final de las instrucciones del ciclo."
      ],
      "metadata": {
        "id": "d71i98NH6f4t"
      }
    },
    {
      "cell_type": "markdown",
      "source": [
        "En el siguiente ejemplo se calcula y muestra la tabla del 7."
      ],
      "metadata": {
        "id": "n0fZfu_aaH0X"
      }
    },
    {
      "cell_type": "code",
      "execution_count": null,
      "metadata": {
        "id": "gTTl-4163rpt"
      },
      "outputs": [],
      "source": [
        "numero = 0\n",
        "print('Tabla del 7: ')\n",
        "while numero <= 10:\n",
        "    print(numero * 7)\n",
        "    numero += 1\n",
        "print('Fin')"
      ]
    },
    {
      "cell_type": "markdown",
      "source": [
        "En el ejemplo se inicializa una variable numero con el valor 0. Luego de un mensaje, aparece una sentencia while (tercer línea). En esta sentencia la **condición** es una expresión relacional, donde se comprueba si el valor de la variable numero es menor o igual a 10. Como se evalúa a True la primera vez, se muestra por pantalla el resultado de multiplicar numero por 7 y después se incrementa el valor de numero en 1.\n",
        "\n",
        "Como hemos definido un bucle while, el flujo de ejecución del programa no continúa por la línea 6, sino que vuelve a la línea 3 y de nuevo se evalúa si la expresión numero <= 10 sigue siendo True. Ahora el valor de numero es 1, por lo que la expresión sigue dando como resultado True y vuelven a ejecutarse las líneas de la sentencia while.\n",
        "\n",
        "Esto continuará repitiéndose hasta que numero sea igual a 11. En esa ocasión la expresión relacional se evaluará a False y el flujo continuará, ahora sí, por la línea 6."
      ],
      "metadata": {
        "id": "npd0udeZcIJZ"
      }
    },
    {
      "cell_type": "code",
      "source": [
        "n = 10\n",
        "suma = 0\n",
        "i = 1\n",
        "\n",
        "while i <= n:\n",
        "    suma = suma + 1\n",
        "    i = i+1    \n",
        "\n",
        "print(\"El resultado de la suma es:\", suma)"
      ],
      "metadata": {
        "id": "vDvrN8oB8CDk"
      },
      "execution_count": null,
      "outputs": []
    },
    {
      "cell_type": "markdown",
      "source": [
        "# Bucle for\n",
        "\n",
        "El bucle for en Python se usa para iterar sobre una secuencia (lista, tupla, cadena o string) u otros objetos iterables y ejecutar un bloque de código. La iteración sobre una secuencia se denomina recorrido.\n",
        "\n",
        "En cada paso de la iteración se tiene en cuenta a un único elemento del objeto iterable, sobre el cuál se pueden aplicar una serie de acciones u operaciones.\n",
        "\n",
        "La sintaxis de for es la siguiente\n",
        "\n",
        "    for val in secuencia: \n",
        "      declaraciones del for\n",
        "\n",
        "Aquí, **val** es la variable que toma el valor del elemento dentro de la secuencia en cada iteración.\n",
        "El bucle continúa hasta que llega al último elemento de la secuencia. El cuerpo del bucle for se separa del resto del código mediante la indentación."
      ],
      "metadata": {
        "id": "HzN9bzWP57fu"
      }
    },
    {
      "cell_type": "markdown",
      "source": [
        "# Objetos iterables\n",
        "\n",
        "Un iterable es un objeto que sobre el que se puede iterar, es decir, que nos  permite recorrer sus elementos uno a uno. \n",
        "\n",
        "los tipos list, tuple, o string, que desarrollaremos más adelante, son iterables, por lo que podrán ser usados en el bucle for.\n",
        "Pero también existen otras maneras de obtener objetos iterables. En Python contamos con **range**, que devuelve una secuencia de números (un iterable). \n",
        "\n",
        "La forma más sencilla de utilizar range es range(final), donde **final** es un valor numérico. En este caso, la secuencia que se genera comienza en 0 y se incrementa de 1 en 1 hasta el valor final - 1. \n",
        "\n",
        "Pero también se puede implementar range con más parámetros para definir un valor de inicio diferente a 0 o incrementos distintos a 1.\n",
        "\n",
        "A continuación se muestran las diferentes formas en que se puede implementar range:\n",
        "\n",
        "*   **range(final)**: Un iterable de números enteros consecutivos que empieza en 0 y acaba en final - 1\n",
        "*   **range(inicio, final)**: Un iterable de números enteros consecutivos que empieza en inicio y acaba en final - 1\n",
        "*   **range(inicio, final, paso)**: Un iterable de números enteros consecutivos que empieza en inicio acaba en final - 1 y los valores se van incrementando de paso en paso. \n",
        "\n"
      ],
      "metadata": {
        "id": "n9-7bAInkKTx"
      }
    },
    {
      "cell_type": "code",
      "source": [
        "numeros = range(11)\n",
        "\n",
        "for val in numeros:\n",
        "    print(val)\n",
        "\n",
        "print(\"Fin\")"
      ],
      "metadata": {
        "id": "4ovJfg4npzkL"
      },
      "execution_count": null,
      "outputs": []
    },
    {
      "cell_type": "markdown",
      "source": [
        "En el ejemplo se genera un iterable **numeros** usando range. La secuencia inicia en 0 y llega hasta 10 (final-1).\n",
        "\n",
        "Ahora podemos utilizar el for para recorrer cada elemento del iterable y mostrarlo. En cada iteración **val** toma el valor de uno de los elementos de la secuencia."
      ],
      "metadata": {
        "id": "r83l0t9TqiqS"
      }
    },
    {
      "cell_type": "code",
      "source": [
        "numeros = range(11)\n",
        "\n",
        "suma = 0\n",
        "\n",
        "for val in numeros:\n",
        "    suma = suma+val\n",
        "\n",
        "print(\"El resultado de la suma es:\", suma)"
      ],
      "metadata": {
        "id": "3tsuX_3i6VSA"
      },
      "execution_count": null,
      "outputs": []
    },
    {
      "cell_type": "code",
      "source": [
        "numeros = range(2,3)\n",
        "\n",
        "for val in numeros:\n",
        "    print(val)\n",
        "\n",
        "print(\"Fin\")"
      ],
      "metadata": {
        "id": "-RJALYB4r59i"
      },
      "execution_count": null,
      "outputs": []
    },
    {
      "cell_type": "markdown",
      "source": [
        "En este ejemplo se han modificado el valor inicial de la secuencia (que por defecto es 0), haciendo que comience en 5. "
      ],
      "metadata": {
        "id": "N8rprTC6sBLK"
      }
    },
    {
      "cell_type": "code",
      "source": [
        "numeros = range(5,15,3)\n",
        "\n",
        "for val in numeros:\n",
        "    print(val)\n",
        "\n",
        "print(\"Fin\")"
      ],
      "metadata": {
        "colab": {
          "base_uri": "https://localhost:8080/"
        },
        "id": "AyqVY-9zsSvq",
        "outputId": "1088fa82-1fe0-4417-92ac-2d048be81145"
      },
      "execution_count": null,
      "outputs": [
        {
          "output_type": "stream",
          "name": "stdout",
          "text": [
            "5\n",
            "8\n",
            "11\n",
            "14\n",
            "Fin\n"
          ]
        }
      ]
    },
    {
      "cell_type": "markdown",
      "source": [
        "Ahora la secuencia comienza en 5 y acaba en 14, pero los incrementos se realizan de 3 en 3."
      ],
      "metadata": {
        "id": "jW2FvC2Jsd0z"
      }
    },
    {
      "cell_type": "code",
      "source": [
        "numeros = range(11,5,-1)\n",
        "\n",
        "for val in numeros:\n",
        "    print(val)\n",
        "\n",
        "print(\"Fin\")"
      ],
      "metadata": {
        "id": "1cdA7FsQs5Cg"
      },
      "execution_count": null,
      "outputs": []
    },
    {
      "cell_type": "markdown",
      "source": [
        "También podemos hacer recorridos a la inversa del orden numérico, colocando valores negativos como **paso**. Ahora el valor inicial es 11 y el valor final es 6. El valor **final** que se utiliza en range nunca es parte de la secuencia. \n",
        "\n",
        "Es necesario tener en cuenta que para recorrer a la inversa el valor de **inicio** debe ser mayor que el valor de **final**."
      ],
      "metadata": {
        "id": "6C6hEEYwtEE-"
      }
    },
    {
      "cell_type": "markdown",
      "source": [
        "# Interrupción y modificación del flujo de ejecución\n",
        "\n",
        "En ocasiones es necesario poder interrumpir o modificar el flujo de las iteraciones en bucles. Esto es posible mediante la utilización de las sentencias **break** y **continue**. \n",
        "\n",
        "También es posible proponer una operación nula (cuando es ejecutada, nada sucede) mediante la sentencia **pass**. \n"
      ],
      "metadata": {
        "id": "OyexJOohWRO4"
      }
    },
    {
      "cell_type": "markdown",
      "source": [
        "# Declaración break\n",
        "\n",
        "La sentencia break termina el bucle que la contiene. Cuando se ejecuta rompe el ciclo en el que se encuentra, haciendo que se salga de la de la iteración actual y del bucle. El control del programa fluye a la declaración inmediatamente después del bloque del bucle.\n",
        "Si la instrucción break está dentro de un bucle anidado (bucle dentro de otro), la declaración break terminará el bucle más interno, que es el que lo contiene."
      ],
      "metadata": {
        "id": "64lIZAI48-sm"
      }
    },
    {
      "cell_type": "code",
      "source": [
        "numeros = range(11)\n",
        "\n",
        "for val in numeros:\n",
        "    if val == 5:\n",
        "        break\n",
        "    print(val)\n",
        "\n",
        "print(\"Fuera del for\")"
      ],
      "metadata": {
        "id": "ydUBvgdj9aBV"
      },
      "execution_count": null,
      "outputs": []
    },
    {
      "cell_type": "markdown",
      "source": [
        "En este programa, se itera a través de la secuencia de lista. Se verifica si el valor es 5, cuando se cumple la condición se sale del bucle. Por lo tanto, vemos en la salida que se imprimen todas los números hasta  el 5. Después de eso, el ciclo termina."
      ],
      "metadata": {
        "id": "yJmrej9y9vg7"
      }
    },
    {
      "cell_type": "markdown",
      "source": [
        "# Declaración continue\n",
        "\n",
        "La instrucción continue se usa para omitir el resto del código dentro de un bucle solo para la iteración actual. Salta de la iteración actual a la siguiente. El bucle no termina sino que continúa con la siguiente iteración.\n"
      ],
      "metadata": {
        "id": "YJUO-Geh-AG9"
      }
    },
    {
      "cell_type": "code",
      "source": [
        "numeros = range(11)\n",
        "\n",
        "for val in numeros:\n",
        "    if val == 5:\n",
        "        continue\n",
        "    print(val)\n",
        "\n",
        "print(\"Fuera del for\")"
      ],
      "metadata": {
        "id": "xgcmqGpT-uY2"
      },
      "execution_count": null,
      "outputs": []
    },
    {
      "cell_type": "markdown",
      "source": [
        "En este programa continuamos con el bucle, si el valor del elemento de la secuencia es 5 no se ejecuta el resto del bloque. Por lo tanto, vemos en nuestra salida que se imprimen todas los números excepto el 5."
      ],
      "metadata": {
        "id": "u-tZjGRM--zt"
      }
    },
    {
      "cell_type": "markdown",
      "source": [
        "# Sentencia pass\n",
        "\n",
        "La instrucción pass le indica al programa que ignore esa línea de código y continúe ejecutando el programa como de costumbre. \n",
        "\n",
        "Es útil cuando una sentencia es requerida sintácticamente, pero no necesita código que sea ejecutado. También permite actuar como marcador de posición al trabajar en un nuevo código y pensar en un nivel de algoritmo antes de preparar detalles.\n",
        "\n",
        "Por ejemplo, si en el código anterior se requiere realizar una acción cuando el valor es 5, pero aún no tenemos definido cuál será dicha acción, podemos usar pass para marcar el sitio en el que se escribirán las instrucciones y continuar codificando."
      ],
      "metadata": {
        "id": "pH-JkkvoqgJI"
      }
    },
    {
      "cell_type": "code",
      "source": [
        "numeros = range(11)\n",
        "\n",
        "for val in numeros:\n",
        "    if val == 5:\n",
        "        pass\n",
        "    print(val)\n",
        "\n",
        "print(\"Fuera del for\")"
      ],
      "metadata": {
        "id": "NBdFCE-is7ZS"
      },
      "execution_count": null,
      "outputs": []
    },
    {
      "cell_type": "markdown",
      "source": [
        "A diferencia de los ejemplos anteriores, el valor 5 se muestra por pantalla. Y a posterior se puede reemplazar pass por las acciones a realizar si val==5 es True."
      ],
      "metadata": {
        "id": "dvBb6uxGtBDU"
      }
    },
    {
      "cell_type": "markdown",
      "source": [
        "# Generación de valores al azar\n",
        "\n",
        "Para generar valores aleatorios existe un conjunto de funciones de la biblioteca **random**. \n",
        "\n",
        "Si el valor a generar es un entero la función a utilizar es **randint**, que recibe dos parámetros correspondientes a los límites inferior y superior, ambos incluídos, del rango al cual pertenecerá el valor generado."
      ],
      "metadata": {
        "id": "85zpS0cooVFe"
      }
    },
    {
      "cell_type": "code",
      "source": [
        "import random  # importamos la biblioteca\n",
        "\n",
        "x = random.randint(10, 100) # genera un valor entero entre 10 (límite inferior) y 100 (límite superior)\n",
        "print(\"El valor entero generado es: \", x)"
      ],
      "metadata": {
        "id": "lahO029IqR7R"
      },
      "execution_count": null,
      "outputs": []
    },
    {
      "cell_type": "markdown",
      "source": [
        "Para generar un valor flotante entre 0.0 y 1.0 podemos utilizar la función **random** que no recibe parámetros."
      ],
      "metadata": {
        "id": "rPHKVmRRrQRt"
      }
    },
    {
      "cell_type": "code",
      "source": [
        "import random\n",
        "\n",
        "y = random.random() # genera un valor flotante y lo asigna a la variable y\n",
        "print(\"El valor flotante generado es: \", y)"
      ],
      "metadata": {
        "id": "2R9X9D1ksU5s"
      },
      "execution_count": null,
      "outputs": []
    },
    {
      "cell_type": "markdown",
      "source": [
        "En el caso de querer generar un valor flotante al azar en un rango determinado podemos utilizar la función **uniform** que recibe como parámetros los límites inferior y superior del rango establecido. "
      ],
      "metadata": {
        "id": "CgShJteRvu9_"
      }
    },
    {
      "cell_type": "code",
      "source": [
        "import random  # importamos la biblioteca\n",
        "\n",
        "x = random.uniform(10, 100) # genera un valor flotante entre 10 (límite inferior) y 100 (límite superior)\n",
        "print(\"El valor flotante generado es: \", x)"
      ],
      "metadata": {
        "id": "tIIx7PdEyMgo"
      },
      "execution_count": null,
      "outputs": []
    },
    {
      "cell_type": "markdown",
      "source": [
        "# Problemas Resueltos"
      ],
      "metadata": {
        "id": "p40FKYu3_H-k"
      }
    },
    {
      "cell_type": "markdown",
      "metadata": {
        "id": "_R2I-TgPLBS-"
      },
      "source": [
        "**Problema 1**\n",
        "\n",
        "Escriba un programa en Python que permita ingresar un número natural N y muestre por pantalla los valores comprendidos entre 0 y N-1. Por ejemplo: si el número ingresado es 5, por pantalla se debe mostrar:\n",
        "\n",
        "\t\t0\n",
        "\t\t1\n",
        "\t\t2\n",
        "\t\t3\n",
        "\t\t4"
      ]
    },
    {
      "cell_type": "code",
      "execution_count": null,
      "metadata": {
        "id": "wBb10vYOLYmZ"
      },
      "outputs": [],
      "source": [
        "N=int(input(\"Ingrese número natural: \"))\n",
        "salida=0\n",
        "while salida<N:\n",
        "  print(salida)\n",
        "  salida=salida+1"
      ]
    },
    {
      "cell_type": "markdown",
      "metadata": {
        "id": "w-XwHRP2v8RQ"
      },
      "source": [
        "**Problema 2**\n",
        "\n",
        " Escriba un programa en Python que permita ingresar un número natural N como dato y muestre los divisores de dicho número."
      ]
    },
    {
      "cell_type": "code",
      "execution_count": null,
      "metadata": {
        "id": "jsf3aEUj_7R5"
      },
      "outputs": [],
      "source": [
        "#Opción 1\n",
        "numero = int(input('Ingrese numero entero:\\n'))\n",
        "divisor = 1\n",
        "print(\"Los divisores de\", numero, 'son:\\n')\n",
        "while divisor<=numero:\n",
        "    if (numero % divisor) == 0 :\n",
        "        print(divisor)\n",
        "    divisor += 1"
      ]
    },
    {
      "cell_type": "code",
      "execution_count": null,
      "metadata": {
        "id": "MfnmXDRZvzlH"
      },
      "outputs": [],
      "source": [
        "#Opción 2\n",
        "numero = int(input('Ingrese numero entero:\\n'))\n",
        "print(\"Los divisores de\", numero, 'son:\\n')\n",
        "for divisor in range(1,numero+1):\n",
        "    if (numero % divisor) == 0 :\n",
        "        print(divisor)"
      ]
    },
    {
      "cell_type": "markdown",
      "metadata": {
        "id": "UnHbgGpHwhAT"
      },
      "source": [
        "**Problema 3**\n",
        "\n",
        "Escriba un programa en Python que permita ingresar un número natural N como dato y muestre los divisores de dicho número. Debe dar al usuario la posibilidad de seleccionar por un menú la opción de visualizar el listado: \n",
        "\n",
        "1) En forma creciente. \n",
        "\n",
        "2) En forma decreciente."
      ]
    },
    {
      "cell_type": "code",
      "execution_count": null,
      "metadata": {
        "colab": {
          "background_save": true
        },
        "id": "NCfyNyQVxJWM"
      },
      "outputs": [],
      "source": [
        "# Opción 1\n",
        "numero = int(input('Ingrese numero entero:\\n'))\n",
        "opcion = int(input(\"Ingrese opcion de ordenamiento: 1 (ascendente) o 2 (descendente)\"))\n",
        "\n",
        "if opcion==2:\n",
        "\tdivisor=numero\n",
        "\tprint(\"Los divisores de\", numero, 'son:')\n",
        "\twhile divisor>0:\n",
        "\t\tif (numero%divisor)==0:\n",
        "\t\t\tprint(divisor)\n",
        "\t\tdivisor = divisor - 1\n",
        "else:\n",
        "\tdivisor=1\n",
        "\tprint(\"Los divisores de\", numero, 'son:')\n",
        "\twhile divisor<=numero:\n",
        "\t\tif (numero % divisor) == 0:\n",
        "\t\t\tprint(divisor)\n",
        "\t\tdivisor = divisor + 1"
      ]
    },
    {
      "cell_type": "code",
      "execution_count": null,
      "metadata": {
        "id": "g2Ju1P1ZOM6w"
      },
      "outputs": [],
      "source": [
        "# Opción 2\n",
        "numero = int(input('Ingrese numero entero: '))\n",
        "opcion = int(input(\"Ingrese opcion de ordenamiento: 1 (ascendente) o 2 (descendente): \"))\n",
        "\n",
        "if opcion==2:\n",
        "\tprint(\"Los divisores de\", numero, 'son:')\n",
        "\tfor divisor in range(numero,0,-1):\n",
        "\t\tif (numero%divisor)==0:\n",
        "\t\t\tprint(divisor)\n",
        "else:\n",
        "\tprint(\"Los divisores de\", numero, 'son:')\n",
        "\tfor divisor in range(1,numero+1):\n",
        "\t\tif (numero % divisor) == 0:\n",
        "\t\t\tprint(divisor)"
      ]
    },
    {
      "cell_type": "markdown",
      "source": [
        "**Problema 4**\n",
        "\n",
        "Escriba un programa en Python que permita ingresar un número natural N como dato y muestre los divisores de dicho número. Debe dar al usuario la posibilidad de seleccionar por un menú la opción de visualizar el listado: \n",
        "\n",
        "1) En forma creciente. \n",
        "\n",
        "2) En forma decreciente.\n",
        "\n",
        "Proponga un control para que sólo se ingrese una opción correcta"
      ],
      "metadata": {
        "id": "Ddwk7FHaY1fp"
      }
    },
    {
      "cell_type": "code",
      "source": [
        "numero = int(input('Ingrese numero entero: '))\n",
        "opcion = int(input(\"Ingrese opcion de ordenamiento: 1 (ascendente) o 2 (descendente): \"))\n",
        "while opcion!=1 and opcion!=2:\n",
        "    print(\"¡La opción ingresada no es correcta!\")\n",
        "    opcion = int(input(\"Ingrese opcion de ordenamiento: 1 (ascendente) o 2 (descendente): \"))\n",
        "\n",
        "if opcion==1:\n",
        "  divisor=1\n",
        "  print(\"Los divisores de\", numero, 'son:')\n",
        "  while divisor<=numero:\n",
        "    if (numero % divisor) == 0:\n",
        "      print(divisor)\n",
        "    divisor = divisor + 1\n",
        "else:\n",
        "  divisor=numero\n",
        "  print(\"Los divisores de\", numero, 'son:')\n",
        "  while divisor>0:\n",
        "    if (numero%divisor)==0:\n",
        "      print(divisor)\n",
        "    divisor = divisor - 1"
      ],
      "metadata": {
        "id": "dAcfFj-TY4xT"
      },
      "execution_count": null,
      "outputs": []
    },
    {
      "cell_type": "markdown",
      "source": [
        "**Problema 5**\n",
        "\n",
        "Escriba un programa que genere 20 números pseudoaleatorios entre 1 y 50 y cuente cuántos son mayores de 30. \n"
      ],
      "metadata": {
        "id": "mbJW5BbtxhJF"
      }
    },
    {
      "cell_type": "code",
      "source": [
        "# Opción 1\n",
        "import random\n",
        "c=0\n",
        "for i in range(20):\n",
        "    N=random.randint(1,50)\n",
        "    print(N)\n",
        "    if N>30:\n",
        "        c=c+1  \n",
        "\n",
        "print(\"Cantidad que supera 30:\",c)        "
      ],
      "metadata": {
        "id": "dbzlqkpDyU8a"
      },
      "execution_count": null,
      "outputs": []
    },
    {
      "cell_type": "code",
      "source": [
        "# Opción 2\n",
        "import random\n",
        "c=0\n",
        "i=0\n",
        "while i<20:\n",
        "    N=random.randint(1,50)\n",
        "    print(N)\n",
        "    if N>30:\n",
        "        c=c+1\n",
        "    i=i+1    \n",
        "\n",
        "print(\"Cantidad que supera 30:\",c)        "
      ],
      "metadata": {
        "id": "-Nn-byddyDmF"
      },
      "execution_count": null,
      "outputs": []
    }
  ]
}