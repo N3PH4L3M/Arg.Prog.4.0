{
  "nbformat": 4,
  "nbformat_minor": 0,
  "metadata": {
    "colab": {
      "provenance": [],
      "include_colab_link": true
    },
    "kernelspec": {
      "name": "python3",
      "display_name": "Python 3"
    },
    "language_info": {
      "name": "python"
    }
  },
  "cells": [
    {
      "cell_type": "markdown",
      "metadata": {
        "id": "view-in-github",
        "colab_type": "text"
      },
      "source": [
        "<a href=\"https://colab.research.google.com/github/N3PH4L3M/Arg.Prog.4.0/blob/main/Tuplas.ipynb\" target=\"_parent\"><img src=\"https://colab.research.google.com/assets/colab-badge.svg\" alt=\"Open In Colab\"/></a>"
      ]
    },
    {
      "cell_type": "markdown",
      "source": [
        "# Tuplas\n",
        "\n",
        "Las tuplas también son secuencias de datos (iterables). A diferencia de las listas, las tuplas son secuencias inmutables, esto quiere decir que no puede ser modificada (no se pueden añadir ni eliminar elementos de una tupla).\n",
        "\n",
        "Son usadas normalmente para almacenar colecciones de datos heterogéneos (aunque también pueden contener elementos homogéneos). \n",
        "\n",
        "En general, para crear una tupla en Python simplemente hay que definir una secuencia de elementos separados por comas. El elemento que determina que una secuencia de elementos sea una tupla es la coma, no los paréntesis. Los paréntesis son opcionales y solo se necesitan para crear una tupla vacía o para evitar ambigüedades. \n",
        "\n",
        "Para crear una tupla con un único elemento: elem, o (elem, ) siempre se añade una coma."
      ],
      "metadata": {
        "id": "_SI2UznbUgpP"
      }
    },
    {
      "cell_type": "code",
      "execution_count": null,
      "metadata": {
        "id": "4EgGjHb_UeEd",
        "colab": {
          "base_uri": "https://localhost:8080/"
        },
        "outputId": "5665e08e-a1a9-4fbc-ff68-1fdd2d48d740"
      },
      "outputs": [
        {
          "output_type": "stream",
          "name": "stdout",
          "text": [
            "tupla:  (12345, 54.321, 'hola!')\n",
            "<class 'tuple'>\n",
            "tupla[0]:  12345\n",
            "tupla[1]:  54.321\n",
            "tupla[2]:  hola!\n"
          ]
        }
      ],
      "source": [
        "#Definir y asignar valores a una tupla\n",
        "tupla = 12345, 54.321, 'hola!'\n",
        "print(\"tupla: \",tupla)\n",
        "print(type(tupla))\n",
        "\n",
        "#Acceder a cada elemento de la tupla\n",
        "print(\"tupla[0]: \",tupla[0])\n",
        "print(\"tupla[1]: \",tupla[1])\n",
        "print(\"tupla[2]: \",tupla[2])"
      ]
    },
    {
      "cell_type": "markdown",
      "source": [
        "El acceso a los elementos de la tupla se realizan de la misma manera que en el caso de las listas y se pueden indexar, segmentar y recorrer sus elementos."
      ],
      "metadata": {
        "id": "vwK8ZxhjufrW"
      }
    },
    {
      "cell_type": "code",
      "source": [
        "tupla = ('p','r','o','g','r','a','m','a','c','i','o','n')\n",
        "\n",
        "#Mostrar todos los elementos de la tupla\n",
        "print(tupla)\n",
        "\n",
        "#Mostrar los elementos del 1 al 6\n",
        "print(tupla[0:6])"
      ],
      "metadata": {
        "id": "MnIdZnMCXRUi",
        "colab": {
          "base_uri": "https://localhost:8080/"
        },
        "outputId": "80d40ee8-46e6-4358-8a21-e78de389741d"
      },
      "execution_count": null,
      "outputs": [
        {
          "output_type": "stream",
          "name": "stdout",
          "text": [
            "('p', 'r', 'o', 'g', 'r', 'a', 'm', 'a', 'c', 'i', 'o', 'n')\n",
            "('p', 'r', 'o', 'g', 'r', 'a')\n"
          ]
        }
      ]
    },
    {
      "cell_type": "code",
      "source": [
        "tupla = ('a','p','p','l','e')\n",
        "print(\"Tamaño de tupla: \",len(tupla))\n",
        "print(\"Cantidad de letras p: \",tupla.count('p'))"
      ],
      "metadata": {
        "id": "z2lxBsLOX_6y",
        "colab": {
          "base_uri": "https://localhost:8080/"
        },
        "outputId": "299ab6cf-42fe-4111-9dde-f1eed7236dd4"
      },
      "execution_count": null,
      "outputs": [
        {
          "output_type": "stream",
          "name": "stdout",
          "text": [
            "Tamaño de tupla:  5\n",
            "Cantidad de letras p:  2\n"
          ]
        }
      ]
    },
    {
      "cell_type": "code",
      "source": [
        "tupla = ('a','p','p','l','e')\n",
        "\n",
        "#Iterar una tupla\n",
        "for i in tupla:\n",
        "  print(i)"
      ],
      "metadata": {
        "id": "gFYB6qSgYhXf",
        "colab": {
          "base_uri": "https://localhost:8080/"
        },
        "outputId": "26faa94a-3941-4481-cac4-dc327a3051bc"
      },
      "execution_count": null,
      "outputs": [
        {
          "output_type": "stream",
          "name": "stdout",
          "text": [
            "a\n",
            "p\n",
            "p\n",
            "l\n",
            "e\n"
          ]
        }
      ]
    },
    {
      "cell_type": "markdown",
      "source": [
        "También es posible usar el operador de pertenencia para comprobar si un valor o variable se encuentran dentro de la secuencia."
      ],
      "metadata": {
        "id": "DQKUOtg8KdkU"
      }
    },
    {
      "cell_type": "code",
      "source": [
        "tupla = ('a','p','p','l','e')\n",
        "\n",
        "#Comprobar si un elemento está en la tupla\n",
        "if 'p' in tupla:\n",
        "  print('Si')"
      ],
      "metadata": {
        "colab": {
          "base_uri": "https://localhost:8080/"
        },
        "id": "b-R9rZDXL4X0",
        "outputId": "578c6725-66aa-4b2a-a236-2839f72ad92e"
      },
      "execution_count": null,
      "outputs": [
        {
          "output_type": "stream",
          "name": "stdout",
          "text": [
            "Si\n"
          ]
        }
      ]
    },
    {
      "cell_type": "markdown",
      "source": [
        "Debido a que las tuplas son objetos **inmutables**, los elementos de la tupla NO SE PUEDEN MODIFICAR. Intentar hacerlo, produce un ERROR."
      ],
      "metadata": {
        "id": "tzgNjON6h32j"
      }
    },
    {
      "cell_type": "code",
      "source": [
        "tupla = 12345, 54.321, 'hola!'\n",
        "tupla[0] = 9 # Error de tipo: el objeto tupla no soporta asignación de elemento "
      ],
      "metadata": {
        "colab": {
          "base_uri": "https://localhost:8080/",
          "height": 183
        },
        "id": "KTawaJcliC-s",
        "outputId": "2fbf14dc-c0c1-4ac4-af2e-38a5391a6465"
      },
      "execution_count": null,
      "outputs": [
        {
          "output_type": "error",
          "ename": "TypeError",
          "evalue": "ignored",
          "traceback": [
            "\u001b[0;31m---------------------------------------------------------------------------\u001b[0m",
            "\u001b[0;31mTypeError\u001b[0m                                 Traceback (most recent call last)",
            "\u001b[0;32m<ipython-input-14-7214721756da>\u001b[0m in \u001b[0;36m<module>\u001b[0;34m\u001b[0m\n\u001b[1;32m      1\u001b[0m \u001b[0mtupla\u001b[0m \u001b[0;34m=\u001b[0m \u001b[0;36m12345\u001b[0m\u001b[0;34m,\u001b[0m \u001b[0;36m54.321\u001b[0m\u001b[0;34m,\u001b[0m \u001b[0;34m'hola!'\u001b[0m\u001b[0;34m\u001b[0m\u001b[0;34m\u001b[0m\u001b[0m\n\u001b[0;32m----> 2\u001b[0;31m \u001b[0mtupla\u001b[0m\u001b[0;34m[\u001b[0m\u001b[0;36m0\u001b[0m\u001b[0;34m]\u001b[0m \u001b[0;34m=\u001b[0m \u001b[0;36m9\u001b[0m \u001b[0;31m# Error de tipo: el objeto tupla no soporta asignación de elemento\u001b[0m\u001b[0;34m\u001b[0m\u001b[0;34m\u001b[0m\u001b[0m\n\u001b[0m",
            "\u001b[0;31mTypeError\u001b[0m: 'tuple' object does not support item assignment"
          ]
        }
      ]
    },
    {
      "cell_type": "markdown",
      "source": [
        "Así como una lista puede contener otras listas, también una lista puede contener una secuencia de tuplas."
      ],
      "metadata": {
        "id": "dj2aXNxfbOfi"
      }
    },
    {
      "cell_type": "code",
      "source": [
        "lista=[(1,4),(12,5),(4,2),(10,7)]\n",
        "print(\"La lista es:\", lista)\n",
        "print(\"La lista contiene:\", len(lista),\"elementos\")\n",
        "print(\"El segundo elemento de la tercer tupla es:\",lista[2][1])"
      ],
      "metadata": {
        "id": "DRJaOAfxbWd7",
        "colab": {
          "base_uri": "https://localhost:8080/"
        },
        "outputId": "0d12ddac-45da-47c1-9c51-15ac2aba5371"
      },
      "execution_count": null,
      "outputs": [
        {
          "output_type": "stream",
          "name": "stdout",
          "text": [
            "La lista es: [(1, 4), (12, 5), (4, 2), (10, 7)]\n",
            "La lista contiene: 4 elementos\n",
            "El segundo elemento de la tercer tupla es: 2\n"
          ]
        }
      ]
    },
    {
      "cell_type": "markdown",
      "source": [
        "# Métodos disponibles para tuplas\n",
        "La lista de métodos disponible para utilizar con las tuplas es corta, pues al tratarse de objetos inmutables, no se pueden cambiar los valores de la misma una vez creada.\n",
        "\n",
        "Los métodos disponibles son:\n",
        "\n",
        "*   **count**: Devuelve el número de ocurrencias de un elemento en la lista\n",
        "\n",
        "*   **index**: Devuelve el índice que ocupa un elemento.\n"
      ],
      "metadata": {
        "id": "sqbOTzyrTtdT"
      }
    },
    {
      "cell_type": "markdown",
      "source": [
        "# Conversión entre listas y tuplas\n",
        "\n",
        "La conversión entre estos dos tipos de objetos es muy sencilla. Para convertir una lista en una tupla se utiliza la función incorporada `tuple()`. En el caso inverso, se usa la función `list()`."
      ],
      "metadata": {
        "id": "YHCxC3iVPLJq"
      }
    },
    {
      "cell_type": "code",
      "source": [
        "l = [1, 2, 3, 4]\n",
        "t = tuple(l)\n",
        "print(t)"
      ],
      "metadata": {
        "colab": {
          "base_uri": "https://localhost:8080/"
        },
        "id": "L29jO7KwPp9O",
        "outputId": "a9ec0779-e108-4d75-9f46-a196cfb12b8b"
      },
      "execution_count": null,
      "outputs": [
        {
          "output_type": "stream",
          "name": "stdout",
          "text": [
            "(1, 2, 3, 4)\n"
          ]
        }
      ]
    },
    {
      "cell_type": "code",
      "source": [
        "t = (1, 2, 3, 4)\n",
        "l = list(t)\n",
        "print(l)"
      ],
      "metadata": {
        "colab": {
          "base_uri": "https://localhost:8080/"
        },
        "id": "Ha29LbV_PxOk",
        "outputId": "5d811969-3fb7-4194-95a3-15876bbdb7e5"
      },
      "execution_count": null,
      "outputs": [
        {
          "output_type": "stream",
          "name": "stdout",
          "text": [
            "[1, 2, 3, 4]\n"
          ]
        }
      ]
    },
    {
      "cell_type": "markdown",
      "source": [
        "# Empaquetado y desempaquetado de datos\n",
        "\n",
        "En Python es muy común usar datos “empaquetados”, y “desempaquetarlos” cuando es necesario.\n",
        "\n",
        "*   **Empaquetar**: refiere a almacenar múltiples elementos en una variable.\n",
        "\n",
        "\n",
        "*    **Desempaquetar**: es asignar los valores de un iterable a múltiples variables a la vez.\n",
        "\n",
        "Si bien el desempaquetado se realiza principalmente sobre las tuplas, se puede aplicar sobre cualquier objeto de tipo secuencia. Se trata de un tipo de asignación múltiple, y requiere que haya tantas variables a la izquierda del operador de asignación = como elementos tenga la secuencia. Por lo tanto, para **desempaquetar** la cantidad de variables debe coincidir con la cantidad de elementos del iterable."
      ],
      "metadata": {
        "id": "NoIWdOBLWw0P"
      }
    },
    {
      "cell_type": "code",
      "source": [
        "# Ejemplo de empaquetado\n",
        "estudiante = \"Ana Ruiz\", 20, \"Programación\" \n",
        "# Se genera una tupla con los datos\n",
        "print(estudiante)"
      ],
      "metadata": {
        "colab": {
          "base_uri": "https://localhost:8080/"
        },
        "id": "ODZIAriMYE-u",
        "outputId": "9761eea3-84da-40e4-f7ee-adcd247c562f"
      },
      "execution_count": null,
      "outputs": [
        {
          "output_type": "stream",
          "name": "stdout",
          "text": [
            "('Ana Ruiz', 20, 'Programación')\n"
          ]
        }
      ]
    },
    {
      "cell_type": "code",
      "source": [
        "# Ejemplo de desempaquetado\n",
        "nombre, edad, curso = [\"Ana Ruiz\", 20, \"Programación\"]\n",
        "# Los elementos de la lista se asignan a 3 variables diferentes\n",
        "print(nombre)\n",
        "print(edad)\n",
        "print(curso)"
      ],
      "metadata": {
        "colab": {
          "base_uri": "https://localhost:8080/"
        },
        "id": "h8c48g86YYsc",
        "outputId": "5e4ee3e0-81d5-48e7-dc43-4aa0d9f9d3bb"
      },
      "execution_count": null,
      "outputs": [
        {
          "output_type": "stream",
          "name": "stdout",
          "text": [
            "Ana Ruiz\n",
            "20\n",
            "Programación\n"
          ]
        }
      ]
    },
    {
      "cell_type": "code",
      "source": [
        "# Si la cantidad de variables a la izquierda es menor que la cantidad \n",
        "# de elementos del iterable, se produce un ERROR\n",
        "nombre, edad = [\"Ana Ruiz\", 20, \"Programación\"]\n",
        "# Error de valor: demasiados valores para desempaquetar (se esperan 2) "
      ],
      "metadata": {
        "colab": {
          "base_uri": "https://localhost:8080/",
          "height": 218
        },
        "id": "DY0jrsZiYt8X",
        "outputId": "72f460b0-da21-4260-d802-127d24c71cfa"
      },
      "execution_count": null,
      "outputs": [
        {
          "output_type": "error",
          "ename": "ValueError",
          "evalue": "ignored",
          "traceback": [
            "\u001b[0;31m---------------------------------------------------------------------------\u001b[0m",
            "\u001b[0;31mValueError\u001b[0m                                Traceback (most recent call last)",
            "\u001b[0;32m<ipython-input-11-fb0bca13e606>\u001b[0m in \u001b[0;36m<module>\u001b[0;34m\u001b[0m\n\u001b[1;32m      1\u001b[0m \u001b[0;31m# Si la cantidad de variables a la izquierda es menor que la cantidad\u001b[0m\u001b[0;34m\u001b[0m\u001b[0;34m\u001b[0m\u001b[0;34m\u001b[0m\u001b[0m\n\u001b[1;32m      2\u001b[0m \u001b[0;31m# de elementos del iterable, se produce un ERROR\u001b[0m\u001b[0;34m\u001b[0m\u001b[0;34m\u001b[0m\u001b[0;34m\u001b[0m\u001b[0m\n\u001b[0;32m----> 3\u001b[0;31m \u001b[0mnombre\u001b[0m\u001b[0;34m,\u001b[0m \u001b[0medad\u001b[0m \u001b[0;34m=\u001b[0m \u001b[0;34m[\u001b[0m\u001b[0;34m\"Ana Ruiz\"\u001b[0m\u001b[0;34m,\u001b[0m \u001b[0;36m20\u001b[0m\u001b[0;34m,\u001b[0m \u001b[0;34m\"Programación\"\u001b[0m\u001b[0;34m]\u001b[0m\u001b[0;34m\u001b[0m\u001b[0;34m\u001b[0m\u001b[0m\n\u001b[0m\u001b[1;32m      4\u001b[0m \u001b[0;31m# Error de valor: demasiados valores para desempaquetar (se esperan 2)\u001b[0m\u001b[0;34m\u001b[0m\u001b[0;34m\u001b[0m\u001b[0;34m\u001b[0m\u001b[0m\n",
            "\u001b[0;31mValueError\u001b[0m: too many values to unpack (expected 2)"
          ]
        }
      ]
    }
  ]
}