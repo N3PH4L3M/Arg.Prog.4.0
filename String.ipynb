{
  "nbformat": 4,
  "nbformat_minor": 0,
  "metadata": {
    "colab": {
      "provenance": [],
      "include_colab_link": true
    },
    "kernelspec": {
      "name": "python3",
      "display_name": "Python 3"
    },
    "language_info": {
      "name": "python"
    }
  },
  "cells": [
    {
      "cell_type": "markdown",
      "metadata": {
        "id": "view-in-github",
        "colab_type": "text"
      },
      "source": [
        "<a href=\"https://colab.research.google.com/github/N3PH4L3M/Arg.Prog.4.0/blob/main/String.ipynb\" target=\"_parent\"><img src=\"https://colab.research.google.com/assets/colab-badge.svg\" alt=\"Open In Colab\"/></a>"
      ]
    },
    {
      "cell_type": "markdown",
      "source": [
        "# Cadenas de caracteres - str\n",
        "\n",
        "La información textual se representa en Python con objetos de tipo o clase str, normalmente llamados cadenas de caracteres o simplemente cadenas. Las cadenas de caracteres son secuencias inmutables de elementos de código Unicode (concretamente UTF-8). El objeto str es un tipo secuencial (secuencia de caracteres), y como es inmutable no se puede modificar después de haber sido creado. \n",
        "\n",
        "Las cadenas se pueden definir de diferentes maneras:\n",
        "\n",
        "*   Comillas simples: ' ...  ' (apóstrofos)\n",
        "*   Comillas dobles: \" ... \"\n",
        "*   Comillas triples (simples o dobles): ''' ... ''' o \"\"\" ... \"\"\" permiten incluir varias líneas de texto y evitan inconvenientes con textos largos en una línea del programa. Todos los espacios en blancos incluidos se incorporan a la cadena de forma literal.\n",
        "\n",
        "---\n",
        "\n",
        "*Hay que tener cuidado de NO confundir un string multilínea con un docstring. Un docstring es un string multilínea que se utiliza para documentar un módulo, función, clase o método.*\n",
        "\n",
        "---\n",
        "\n",
        "\n"
      ],
      "metadata": {
        "id": "mvFWGYq656OF"
      }
    },
    {
      "cell_type": "code",
      "execution_count": null,
      "metadata": {
        "id": "SAv3uSpc5YtW",
        "colab": {
          "base_uri": "https://localhost:8080/"
        },
        "outputId": "c8be8c12-e82a-4d4f-f135-fe56f613657c"
      },
      "outputs": [
        {
          "output_type": "stream",
          "name": "stdout",
          "text": [
            "hola mundo\n",
            "<class 'str'>\n",
            "hola mundo\n",
            "<class 'str'>\n",
            "hola\n",
            "mundo\n",
            "<class 'str'>\n"
          ]
        }
      ],
      "source": [
        "cadena_1 = 'hola mundo'\n",
        "print(cadena_1)\n",
        "print(type(cadena_1))\n",
        "cadena_2 = \"hola mundo\"\n",
        "print(cadena_2)\n",
        "print(type(cadena_2))\n",
        "cadena_3 = '''hola\n",
        "mundo'''\n",
        "print(cadena_3)\n",
        "print(type(cadena_3))"
      ]
    },
    {
      "cell_type": "markdown",
      "source": [
        "La salida de la línea 3 (`print(type(cadena_1))`) muestra que el tipo de dato de la variable cadena_1 es clase `str`, es decir, un string.\n",
        "\n",
        "Las cadenas son sensibles a mayúsculas y minúsculas (*case sensitive*). Por lo que \"Hola Mundo\", \"Hola mundo\" y \"hola mundo\" son tres cadenas diferentes.\n",
        "\n",
        "Cualquier información que se ingresa al programa a través de `input` será de tipo `str`."
      ],
      "metadata": {
        "id": "B11xCDPGy2TB"
      }
    },
    {
      "cell_type": "code",
      "source": [
        "dato=input(\"Ingrese información: \")\n",
        "print(\"El tipo de dato de\", dato, \"es: \", type(dato))"
      ],
      "metadata": {
        "colab": {
          "base_uri": "https://localhost:8080/"
        },
        "id": "oSfr2_wBzmOp",
        "outputId": "c5cf2f7d-3730-4c25-944d-dc191637cb46"
      },
      "execution_count": null,
      "outputs": [
        {
          "output_type": "stream",
          "name": "stdout",
          "text": [
            "Ingrese información: 1589\n",
            "El tipo de dato de 1589 es:  <class 'str'>\n"
          ]
        }
      ]
    },
    {
      "cell_type": "markdown",
      "source": [
        "Si tenemos números encerrados entre comillas, dejan de ser valores numéricos para el programa, pues son strings; y obviamente no\n",
        "pueden incluirse en expresiones numéricas."
      ],
      "metadata": {
        "id": "Y1w4OXRMCb5z"
      }
    },
    {
      "cell_type": "code",
      "source": [
        "a= 235  # esto es un número entero\n",
        "b=\"452\" # esto es un string formado por los caracteres '4','5' y '2'\n",
        "c= a+b  "
      ],
      "metadata": {
        "colab": {
          "base_uri": "https://localhost:8080/",
          "height": 200
        },
        "id": "httF2y4HDIsn",
        "outputId": "9bf44d66-4486-4c77-e644-91ad17f7149f"
      },
      "execution_count": null,
      "outputs": [
        {
          "output_type": "error",
          "ename": "TypeError",
          "evalue": "ignored",
          "traceback": [
            "\u001b[0;31m---------------------------------------------------------------------------\u001b[0m",
            "\u001b[0;31mTypeError\u001b[0m                                 Traceback (most recent call last)",
            "\u001b[0;32m<ipython-input-12-2cf82b4ddb38>\u001b[0m in \u001b[0;36m<module>\u001b[0;34m\u001b[0m\n\u001b[1;32m      1\u001b[0m \u001b[0ma\u001b[0m\u001b[0;34m=\u001b[0m \u001b[0;36m235\u001b[0m  \u001b[0;31m# esto es un número entero\u001b[0m\u001b[0;34m\u001b[0m\u001b[0;34m\u001b[0m\u001b[0m\n\u001b[1;32m      2\u001b[0m \u001b[0mb\u001b[0m\u001b[0;34m=\u001b[0m\u001b[0;34m\"452\"\u001b[0m \u001b[0;31m# esto es un string formado por los caracteres '4','5' y '2'\u001b[0m\u001b[0;34m\u001b[0m\u001b[0;34m\u001b[0m\u001b[0m\n\u001b[0;32m----> 3\u001b[0;31m \u001b[0mc\u001b[0m\u001b[0;34m=\u001b[0m \u001b[0ma\u001b[0m\u001b[0;34m+\u001b[0m\u001b[0mb\u001b[0m\u001b[0;34m\u001b[0m\u001b[0;34m\u001b[0m\u001b[0m\n\u001b[0m",
            "\u001b[0;31mTypeError\u001b[0m: unsupported operand type(s) for +: 'int' and 'str'"
          ]
        }
      ]
    },
    {
      "cell_type": "markdown",
      "source": [
        "La operación de la línea 3 arroja el error: `TypeError: unsupported operand type(s) for +: 'int' and 'str'` (Error de tipos: tipos de operandos 'int' and 'str' no soportados para sumar con +), ya que no es posible sumar un valor numérico con un string. \n",
        "\n",
        "\n"
      ],
      "metadata": {
        "id": "hP2Qc3zf05Su"
      }
    },
    {
      "cell_type": "markdown",
      "source": [
        "\n",
        "# Unicode\n",
        "\n",
        "Unicode es un estándar de codificación de caracteres utilizado para almacenar e intercambiar información.\n",
        "\n",
        "Es una tabla que asigna un número único a cada caracter de texto (dígitos, letras, símbolos, elementos de puntuación)  de los principales sistemas de escritura del mundo.\n",
        "\n",
        "Dentro de la codificación de caracteres Unicode encontramos el formato UTF-8, que es el más común, y que utiliza de 1 a 4 bytes para representar la información. Los primeros 128 carácteres UTF-8 se ajustan a los 128 primeros carácteres ASCII, lo que significa que los textos escritos en ASCII son válidos en UTF-8. \n",
        "\n",
        "Cada carácter de la tabla Unicode tiene un orden o código:  `'A'` es 65, `'B'` es 66, `' '` es 32 (espacio en blanco), `'a'` es el 97. \n",
        "\n",
        "En la tabla también están representados los dígitos del 0 al 9. Por ejemplo, a `'4'` le corresponde el valor 52. \n",
        "\n",
        "Asimismo, contiene los símbolos que podemos encontrar en el teclado (`'+'`, `'*'`, `'='`, `'#'`, `'%'`, etc.) y los signos de puntuación (`'.'`; `','`: `';'`, `'?'`, etc.).  \n",
        "\n",
        "Además, en la también se encuentran los caracteres no imprimibles que podemos generar al pulsar las teclas: ESC, ENTER, TAB, y algunas combinaciones de teclas.\n",
        "\n",
        "Un `str` o string no vacío está formado siempre por un conjunto de caracteres Unicode.\n",
        "\n",
        "La cadena: `\"Programa\"` se forma con los caracteres: `'P'`, `'r'`, `'o'`, `'g'`, `'r'`, `'a'`, `'m'`, `'a'`.\n",
        " \n",
        " Para más información sobre Unicode puede consultar los siguientes enlaces:\n",
        "\n",
        "\n",
        "1.   https://home.unicode.org/\n",
        "2.   https://unicode-table.com/es/\n",
        "\n"
      ],
      "metadata": {
        "id": "wR8E4wt223hZ"
      }
    },
    {
      "cell_type": "markdown",
      "source": [
        "\n",
        "# Funciones para trabajar con strings\n",
        "\n",
        "En Python existen las funciones incorporadas `ord` y `chr` que sirven para trabajar con caracteres y su representación en Unicode.\n",
        "\n",
        "**ord()**\n",
        "Función que retorna el valor del código Unicode que representa el caracter que se pasa como argumento.\n",
        "\n",
        "**chr()**\n",
        "Convierte el número entero que representa el código Unicode en el carácter correspondiente.\n",
        "\n"
      ],
      "metadata": {
        "id": "goxE6TuyrKq3"
      }
    },
    {
      "cell_type": "code",
      "source": [
        "print(ord('A')) \n",
        "print(ord(' ')) "
      ],
      "metadata": {
        "colab": {
          "base_uri": "https://localhost:8080/"
        },
        "id": "BNIz-rEjvosQ",
        "outputId": "d2f0a0ed-28c0-4222-b0de-ffe44b671609"
      },
      "execution_count": null,
      "outputs": [
        {
          "output_type": "stream",
          "name": "stdout",
          "text": [
            "65\n",
            "32\n"
          ]
        }
      ]
    },
    {
      "cell_type": "code",
      "source": [
        "print(chr(97)) \n",
        "print(chr(65)) \n",
        "print(chr(50)) "
      ],
      "metadata": {
        "colab": {
          "base_uri": "https://localhost:8080/"
        },
        "id": "wab6mTmfv51g",
        "outputId": "1f3284fc-3440-4ddd-8b72-382388441ba4"
      },
      "execution_count": null,
      "outputs": [
        {
          "output_type": "stream",
          "name": "stdout",
          "text": [
            "a\n",
            "A\n",
            "2\n"
          ]
        }
      ]
    },
    {
      "cell_type": "markdown",
      "source": [
        "También con los strings es posible usar la función incorporada **len()**, la cual devuelve la longitud de la cadena, es decir, la cantidad de caracteres que contiene."
      ],
      "metadata": {
        "id": "lrj3y0OnKyNe"
      }
    },
    {
      "cell_type": "code",
      "source": [
        "s=\"Hola mundo\"\n",
        "print(len(s))"
      ],
      "metadata": {
        "colab": {
          "base_uri": "https://localhost:8080/"
        },
        "id": "6jo3tDn3LDEL",
        "outputId": "fb685be8-1492-473b-cbf4-22d98e0ed0ca"
      },
      "execution_count": null,
      "outputs": [
        {
          "output_type": "stream",
          "name": "stdout",
          "text": [
            "10\n"
          ]
        }
      ]
    },
    {
      "cell_type": "markdown",
      "source": [
        "# Strings en Python\n",
        "\n",
        "No hay un tamaño máximo para definir una cadena en Python, y es posible crear una cadena vacía.\n"
      ],
      "metadata": {
        "id": "TJyXZvGG8vNz"
      }
    },
    {
      "cell_type": "code",
      "source": [
        "s1=\"\" #esto es una cadena vacía\n",
        "print(s1)"
      ],
      "metadata": {
        "colab": {
          "base_uri": "https://localhost:8080/"
        },
        "id": "sJvu6aF99aqi",
        "outputId": "d0ad4a0a-5ddf-43b0-bf3d-5a104b336c59"
      },
      "execution_count": null,
      "outputs": [
        {
          "output_type": "stream",
          "name": "stdout",
          "text": [
            "\n"
          ]
        }
      ]
    },
    {
      "cell_type": "markdown",
      "source": [
        "Si se requiere que la cadena incluya comillas se debe usar la barra invertida antes de las comillas.\n"
      ],
      "metadata": {
        "id": "vmeM5TL--Esr"
      }
    },
    {
      "cell_type": "code",
      "source": [
        "s2=\"La palabra \\\"software\\\" está incorporada al castellano\"\n",
        "print(s2) "
      ],
      "metadata": {
        "colab": {
          "base_uri": "https://localhost:8080/"
        },
        "id": "O6vVzobI-asr",
        "outputId": "9daa4eb3-96c4-44e4-c5b6-42383a8a5688"
      },
      "execution_count": null,
      "outputs": [
        {
          "output_type": "stream",
          "name": "stdout",
          "text": [
            "La palabra \"software\" está incorporada al castellano\n"
          ]
        }
      ]
    },
    {
      "cell_type": "markdown",
      "source": [
        "En la tabla Unicode existen ciertos caracteres que no tienen un eco gráfico en la pantalla (no imprimibles) cuando se generan desde el teclado (teclas ENTER, TAB, ESC, DEL, etc.). Son llamados caracteres de escape y es posible incluirlos en una cadena con la barra invertida (\\\\) seguida de una letra.\n"
      ],
      "metadata": {
        "id": "2qxMAEJf-qu2"
      }
    },
    {
      "cell_type": "code",
      "source": [
        "s3=\"Esta cadena se muestra \\n en dos líneas\"\n",
        "# el \\n corresponde al ENTER (cod 13) que no es imprimible y produce un salto de línea\n",
        "print(s3)"
      ],
      "metadata": {
        "colab": {
          "base_uri": "https://localhost:8080/"
        },
        "id": "M5fIAMLc_Uwr",
        "outputId": "d8ac3c0a-22ca-4a86-a7ce-1fc17a356608"
      },
      "execution_count": null,
      "outputs": [
        {
          "output_type": "stream",
          "name": "stdout",
          "text": [
            "Esta cadena se muestra \n",
            " en dos líneas\n"
          ]
        }
      ]
    },
    {
      "cell_type": "markdown",
      "source": [
        "# Formato de cadenas combinado otros tipos de datos\n",
        "\n",
        "En Python es posible combinar los strings con otros datos en una cadena. \n",
        "\n",
        "Phyton acepta la sintaxis del viejo lenguaje C (usando %) para combinar datos numéricos en una cadena, pero en forma más moderna se puede usar el prefijo `f` o `F` y las llaves para hacerlo."
      ],
      "metadata": {
        "id": "J29UW3AWG--N"
      }
    },
    {
      "cell_type": "code",
      "source": [
        "x=12\n",
        "y=10\n",
        "s=f\"Los datos son x={x}, y={y}\"\n",
        "print(s) "
      ],
      "metadata": {
        "colab": {
          "base_uri": "https://localhost:8080/"
        },
        "id": "-T7Canj9Hl8J",
        "outputId": "4028b6c8-61a1-4fa3-ba0a-ad98d4da2878"
      },
      "execution_count": null,
      "outputs": [
        {
          "output_type": "stream",
          "name": "stdout",
          "text": [
            "Los datos son x=12, y=10\n"
          ]
        }
      ]
    },
    {
      "cell_type": "markdown",
      "source": [
        "También podemos combinar operaciones en la cadena para que muestre el resultado en la misma.\n"
      ],
      "metadata": {
        "id": "dNFAJMQsIAHn"
      }
    },
    {
      "cell_type": "code",
      "source": [
        "x=12\n",
        "y=10\n",
        "s=F\"La suma de x+y es: {x+y}\"\n",
        "print(s) "
      ],
      "metadata": {
        "colab": {
          "base_uri": "https://localhost:8080/"
        },
        "id": "302crQCGIKlf",
        "outputId": "c81e738d-918f-4698-ba06-9266617364e1"
      },
      "execution_count": null,
      "outputs": [
        {
          "output_type": "stream",
          "name": "stdout",
          "text": [
            "La suma de x+y es: 22\n"
          ]
        }
      ]
    },
    {
      "cell_type": "markdown",
      "source": [
        "\n",
        "\n",
        "Anteriormente se mostraron algunas funciones que pueden aplicarse sobre los strings: **ord()**, **chr()**, **len()**. A continuación se mencionarán algunos métodos para operar con los strings. Es importante diferenciar entre funciones y métodos:\n",
        "\n",
        "*  Una función se invoca en forma independiente, no modifica el string y dicho string suele ser el parámetro entre paréntesis: `len(s)`, `ord(s)`\n",
        "\n",
        "*  Un método se invoca usando el nombre de la variable string, el operador de acceso (el punto) y el nombre del método con sus parámetros entre paréntesis: `s.find( )`, `s.count( )`. En general suelen modificar el `str` que hace la llamada, aunque no siempre es así.\n",
        "\n",
        "\n",
        "# Métodos básicos\n",
        "\n",
        "Los métodos son acciones que pueden realizar los objetos, en este caso el tipo str, para resolver determinadas tareas de forma más sencilla. Algunos de los más utilizados con las cadenas son:\n",
        "\n",
        "**str.upper()**\n",
        "Retorna una copia de la cadena, con todos los caracteres con formas mayúsculas/minúsculas pasados a mayúsculas.\n",
        "\n",
        "**str.lower()**\n",
        "Retorna una copia de la cadena, con todos los caracteres con formas mayúsculas/minúsculas pasados a minúsculas.\n",
        "\n",
        "**str.casefold()**\n",
        "Retorna el texto de la cadena, normalizado a minúsculas. Los textos así normalizados pueden usarse para realizar búsquedas textuales independientes de mayúsculas y minúsculas.\n",
        "\n",
        "**str.capitalize()**\n",
        "Retorna una copia de la cadena con el primer carácter en mayúsculas y el resto en minúsculas.\n",
        "\n",
        "**str.islower()**\n",
        "Retorna True si todos los caracteres de la cadena que tengan formas en mayúsculas y minúsculas están en minúsculas y hay, al menos, un carácter de ese tipo. En caso contrario, retorna False.\n",
        "\n",
        "**str.isupper()**\n",
        "Retorna True si todos los caracteres de la cadena que tengan formas en mayúsculas y minúsculas están en mayúsculas y hay, al menos, un carácter de ese tipo. En caso contrario, retorna False.\n",
        "\n",
        "**str.isalpha()**\n",
        "Retorna True si todos los caracteres de la cadena son alfabéticos y hay, al menos, un carácter. En caso contrario, retorna False.\n",
        "\n",
        "**str.isdigit()**\n",
        "Retorna True si todos los caracteres de la cadena son dígitos y hay, al menos, un carácter. En caso contrario, retorna False.\n",
        "\n",
        "**str.isnumeric()**\n",
        "Retorna True si todos los caracteres de la cadena son caracteres numéricos y hay, al menos, un carácter. En caso contrario, retorna False.\n",
        "\n",
        "**str.find(sub[, start[, end]])**\n",
        "Retorna el menor índice de la cadena s donde se puede encontrar la cadena sub, considerando solo el intervalo `s[start:end]`. Los parámetros opcionales `start` y `end` se interpretan como si fueran indices de un slice. Retorna -1 si no se encuentra la cadena.\n",
        "\n",
        "Nota El método `find()` se debe usar solo si se necesita saber la posición de la cadena sub. Si solo se necesita comprobar si sub es una parte de s, es mejor usar el operador in.\n",
        "\n",
        "**str.count(sub[, start[, end]])**\n",
        "Retorna el número de ocurrencias no solapadas de la cadena sub en el rango `[start, end]`. Los parámetros opcionales `start` y `end` se interpretan como en una expresión de slice.\n",
        "\n",
        "**str.replace(old, new[, count])**\n",
        "Retorna una copia de la cadena con todas las ocurrencias de la cadena old sustituidas por new. Si se utiliza el parámetro count, solo se cambian las primeras count ocurrencias.\n",
        "\n",
        "**str.split(sep=None, maxsplit=- 1)**\n",
        "Retorna una lista con las palabras que componen la cadena de caracteres original, usando como separador el valor de sep. \n",
        "\n",
        "**str.join(iterable)**\n",
        "Retorna un único string formado por cada elemento del iterable separado por str. No modifica la cadena que efectúa la llamada a `join`. \n",
        "\n",
        "**str.strip([chars])**\n",
        "Retorna una copia de la cadena con los caracteres indicados eliminados, tanto si están al principio como al final de la cadena. El parámetro opcional chars es una cadena que especifica el conjunto de caracteres a eliminar. Si se omite o se usa None, se eliminan los caracteres de espacio en blanco. \n",
        "\n",
        "\n",
        "\n",
        "---\n",
        "*En la sintaxis de las funciones o métodos de un lenguaje de\n",
        "programación, los corchetes indican que lo que está dentro de ellos es opcional. **NO SE DEBEN ESCRIBIR LOS CORCHETES INDICADOS EN LA SINTAXIS GENERAL** al codificar.*\n",
        "*Los valores copiados a los parámetros son asignados por defecto si no se indican otros valores, o si se omite el parámetro opcional. \n",
        "Por ejemplo, para find(), si no se indica un valor para inicio s.find() buscará\n",
        "desde la posición 0.*\n",
        "\n",
        "\n",
        "---\n",
        "\n",
        "Para conocer otros métodos de las cadenas de caracteres, puede consultar la documentación oficial de la biblioteca estándar de Python: https://docs.python.org/es/3/library/stdtypes.html#string-methods"
      ],
      "metadata": {
        "id": "iEMQ2Swn8CqY"
      }
    },
    {
      "cell_type": "code",
      "source": [
        "# Ejemplos métodos upper, lower, casefold, capitalize\n",
        "cadena=\"hOlA mUndO\"\n",
        "print(\"string original:\",cadena)\n",
        "print(\"string.upper():\",cadena.upper())\n",
        "print(\"string.lower():\",cadena.lower())\n",
        "print(\"string.casefold():\",cadena.casefold())\n",
        "print(\"string.capitalize():\",cadena.capitalize())"
      ],
      "metadata": {
        "colab": {
          "base_uri": "https://localhost:8080/"
        },
        "id": "GLlnUQTfB2qq",
        "outputId": "2e40b99c-342d-4b4e-a0e0-126c35813561"
      },
      "execution_count": null,
      "outputs": [
        {
          "output_type": "stream",
          "name": "stdout",
          "text": [
            "string original: hOlA mUndO\n",
            "string.upper(): HOLA MUNDO\n",
            "string.lower(): hola mundo\n",
            "string.casefold(): hola mundo\n",
            "string.capitalize(): Hola mundo\n"
          ]
        }
      ]
    },
    {
      "cell_type": "code",
      "source": [
        "# Ejemplos métodos isupper, islower, isalpha, isdigit, isnumeric\n",
        "s1=\"hola mundo\"\n",
        "print(\"Ejemplo 1:\")\n",
        "print(\"string original:\",s1)\n",
        "print(\"El string está en mayúsculas:\",s1.isupper())\n",
        "print(\"El string está en minúsculas:\",s1.islower())\n",
        "print(\"El string sólo contiene letras:\",s1.isalpha()) # es falso porque contiene un espacio en blanco\n",
        "print(\"El string sólo contiene números:\",s1.isnumeric())\n",
        "# Segundo caso\n",
        "print(\"-----------------------\")\n",
        "s2=\"51249812\"\n",
        "print(\"Ejemplo 2:\")\n",
        "print(\"string original:\",s2)\n",
        "print(\"El string está en mayúsculas:\",s2.isupper())\n",
        "print(\"El string está en minúsculas:\",s2.islower())\n",
        "print(\"El string sólo contiene letras:\",s2.isalpha())\n",
        "print(\"El string sólo contiene números:\",s2.isnumeric())\n",
        "# Tercer caso: diferencia entre isnumeric vs isdigit\n",
        "print(\"-----------------------\")\n",
        "s3=\"¾\" # la fracción 3/4 figura en la tabla Unicode con el valor 190\n",
        "print(\"Ejemplo 3: diferencia entre isnumeric vs isdigit\")\n",
        "print(\"string original:\",s3)\n",
        "print(\"El string es numérico:\",s3.isnumeric()) \n",
        "print(\"El string es un dígito\",s3.isdigit())"
      ],
      "metadata": {
        "colab": {
          "base_uri": "https://localhost:8080/"
        },
        "id": "_e-_YPjyCx6n",
        "outputId": "45d41a47-4eee-4cf5-e95e-0d9bce8664f9"
      },
      "execution_count": null,
      "outputs": [
        {
          "output_type": "stream",
          "name": "stdout",
          "text": [
            "Ejemplo 1:\n",
            "string original: hola mundo\n",
            "El string está en mayúsculas: False\n",
            "El string está en minúsculas: True\n",
            "El string sólo contiene letras: False\n",
            "El string sólo contiene números: False\n",
            "-----------------------\n",
            "Ejemplo 2:\n",
            "string original: 51249812\n",
            "El string está en mayúsculas: False\n",
            "El string está en minúsculas: False\n",
            "El string sólo contiene letras: False\n",
            "El string sólo contiene números: True\n",
            "-----------------------\n",
            "Ejemplo 3: diferencia entre isnumeric vs isdigit\n",
            "string original: ¾\n",
            "El string es numérico: True\n",
            "El string es un dígito False\n"
          ]
        }
      ]
    },
    {
      "cell_type": "code",
      "source": [
        "# Ejemplos método find\n",
        "cadena=\"aprende a programar\"\n",
        "buscar=\"pr\"\n",
        "print(cadena.find(buscar))\n",
        "print(cadena.find(buscar,5))\n",
        "print(cadena.find(buscar,5,10))\n",
        "print(buscar in cadena)"
      ],
      "metadata": {
        "colab": {
          "base_uri": "https://localhost:8080/"
        },
        "id": "1gnkW9qdwlzh",
        "outputId": "4b1ae3c5-a06a-4d58-f0ca-497d4e5e9fb7"
      },
      "execution_count": null,
      "outputs": [
        {
          "output_type": "stream",
          "name": "stdout",
          "text": [
            "1\n",
            "10\n",
            "-1\n",
            "True\n"
          ]
        }
      ]
    },
    {
      "cell_type": "code",
      "source": [
        "# Ejemplos método count\n",
        "cadena=\"aprende a programar\"\n",
        "buscar=\"pr\"\n",
        "print(cadena.count(buscar))\n",
        "print(cadena.count(buscar,5))\n",
        "print(cadena.count(buscar,5,10))"
      ],
      "metadata": {
        "colab": {
          "base_uri": "https://localhost:8080/"
        },
        "id": "7tHYziSg3vWu",
        "outputId": "4536046b-daa1-4e92-8f2c-ee13537294dd"
      },
      "execution_count": null,
      "outputs": [
        {
          "output_type": "stream",
          "name": "stdout",
          "text": [
            "2\n",
            "1\n",
            "0\n"
          ]
        }
      ]
    },
    {
      "cell_type": "code",
      "source": [
        "# Ejemplos método replace\n",
        "cad=\"El plan es complejo. Se propone un nuevo plan.\"\n",
        "old=\"plan\"\n",
        "new=\"proyecto\"\n",
        "print(cad.replace(old,new)) \n",
        "print(cad.replace(old,new,1)) "
      ],
      "metadata": {
        "colab": {
          "base_uri": "https://localhost:8080/"
        },
        "id": "oe7oig9466Vl",
        "outputId": "902c9727-0d0a-42ca-f848-b163c7d64951"
      },
      "execution_count": null,
      "outputs": [
        {
          "output_type": "stream",
          "name": "stdout",
          "text": [
            "El proyecto es complejo. Se propone un nuevo proyecto.\n",
            "El proyecto es complejo. Se propone un nuevo plan.\n"
          ]
        }
      ]
    },
    {
      "cell_type": "code",
      "source": [
        "# Ejemplos método split\n",
        "s=\"patos, conejos, serpientes\"\n",
        "a,b,c=s.split(sep=',')\n",
        "print('a=',a,\"b=\",b,'c=',c)\n",
        "a,b,c=s.split()\n",
        "print('a=',a,\"b=\",b,'c=',c)"
      ],
      "metadata": {
        "colab": {
          "base_uri": "https://localhost:8080/"
        },
        "id": "WAD3uiOf_OpU",
        "outputId": "9797129a-8c2c-4316-bf29-6c2405f75b90"
      },
      "execution_count": null,
      "outputs": [
        {
          "output_type": "stream",
          "name": "stdout",
          "text": [
            "a= patos b=  conejos c=  serpientes\n",
            "a= patos, b= conejos, c= serpientes\n"
          ]
        }
      ]
    },
    {
      "cell_type": "code",
      "source": [
        "# Ejemplos método join\n",
        "sep=\":\"\n",
        "s1=sep.join(\"Python\")\n",
        "print(s1) \n",
        "s2=sep.join(['12','34','56','77'])\n",
        "print(s2)"
      ],
      "metadata": {
        "colab": {
          "base_uri": "https://localhost:8080/"
        },
        "id": "PAj-3mSWBxuz",
        "outputId": "ffbbea70-3051-4ffd-b396-1833b1b7dd5f"
      },
      "execution_count": null,
      "outputs": [
        {
          "output_type": "stream",
          "name": "stdout",
          "text": [
            "P:y:t:h:o:n\n",
            "12:34:56:77\n"
          ]
        }
      ]
    },
    {
      "cell_type": "code",
      "source": [
        "# Ejemplo método strip\n",
        "s=\"---patos---conejos---serpientes---\"\n",
        "ss=s.strip('-') # solo se eliminan los caracteres al inicio y al final\n",
        "print(ss)"
      ],
      "metadata": {
        "colab": {
          "base_uri": "https://localhost:8080/"
        },
        "id": "midN6CT0MzJ_",
        "outputId": "79a1b0f8-2589-4d67-8642-9d22e16b1ee6"
      },
      "execution_count": null,
      "outputs": [
        {
          "output_type": "stream",
          "name": "stdout",
          "text": [
            "patos---conejos---serpientes\n"
          ]
        }
      ]
    },
    {
      "cell_type": "markdown",
      "source": [
        "Además del uso de todos estos métodos, se puede concatenar (sumar) cadenas empleando el operador + para unirlas. \n",
        "\n",
        "También se pueden repetir, usando el operador *. El resultado en ambos casos es un nuevo string.\n"
      ],
      "metadata": {
        "id": "asFZezW-31oX"
      }
    },
    {
      "cell_type": "code",
      "source": [
        "a = 'Hola'\n",
        "b = 'Mundo'\n",
        "c = a + b # c es de tipo str y su valor es Hola Mundo\n",
        "print(c)\n",
        "d=3*a+b\n",
        "print(d)"
      ],
      "metadata": {
        "colab": {
          "base_uri": "https://localhost:8080/"
        },
        "id": "G3Lw7WfpAvKo",
        "outputId": "93c28d4d-b473-44c1-931a-12b34e9bb71c"
      },
      "execution_count": null,
      "outputs": [
        {
          "output_type": "stream",
          "name": "stdout",
          "text": [
            "HolaMundo\n",
            "HolaHolaHolaMundo\n"
          ]
        }
      ]
    },
    {
      "cell_type": "markdown",
      "source": [
        "Por otro lado, es posible acceder a cada uno de los elementos de la cadena indicando su índice entre corchetes [  ]. Estos índices representan la posición relativa de cada caracter dentro de la cadena, respecto al inicio. El primer caracter de la cadena tiene el índice 0, el segundo el índice 1, el tercero el índice 2 y así hasta alcanzar el final de la cadena. \n",
        "\n",
        "Los índices también pueden ser negativos. En este caso, el índice -1 hace referencia al último carácter, -2 al penúltimo, y así, sucesivamente. \n"
      ],
      "metadata": {
        "id": "H2lgDxGWA6zP"
      }
    },
    {
      "cell_type": "code",
      "source": [
        "a = 'Hola Mundo'\n",
        "print(\"a: \",a)\n",
        "b = a[0]  # b es de tipo str y su valor es H\n",
        "print(\"b: \",b)\n",
        "c = a[7]  # c es de tipo str y su valor es n\n",
        "print(\"c: \",c)\n",
        "d = a[-3] # d es de tipo str y su valor también es n\n",
        "print(\"d: \",d)"
      ],
      "metadata": {
        "id": "W7jbv9p8BFpc",
        "colab": {
          "base_uri": "https://localhost:8080/"
        },
        "outputId": "d79fc087-0124-46c9-e967-023a3dd884e8"
      },
      "execution_count": null,
      "outputs": [
        {
          "output_type": "stream",
          "name": "stdout",
          "text": [
            "a:  Hola Mundo\n",
            "b:  H\n",
            "c:  n\n",
            "d:  n\n"
          ]
        }
      ]
    },
    {
      "cell_type": "markdown",
      "source": [
        "También se pueden realizar segmentanciones usando `[inicio:fin:salto]`. En este caso, se obtiene una subcadena (parte de la cadena original) que inicia en el caracter que está en el índice  `inicio` y llega hasta el caracter anterior al que está en el índice `fin` (fin-1). El `salto` indica si los caracteres comprendidos entre `inicio` y `fin`  se toman consecutivamente o se toman de 2 en 2 (`salto`=2), 3 en 3  (`salto`=3), o algún otro valor que permite *saltear* caracteres."
      ],
      "metadata": {
        "id": "6Z9VZQb2eV8w"
      }
    },
    {
      "cell_type": "code",
      "source": [
        "a = 'Hola Mundo'\n",
        "print(\"a: \",a)\n",
        "b = a[2:7] # b inicia en el caracter l (índice 2) y termina en el caracter u (índice 6 = fin-1 = 7-1)\n",
        "# si no se indica salto, por defecto se toma el valor 1 (caracteres consecutivos)\n",
        "print(\"b: \",b)\n",
        "c = a[-9:-3] # c inicia en el caracter o de la plabra Hola (índice -9) y termina en el caracter u (índice -4 = fin-1)\n",
        "# nuevamente, si no se indica salto se toman caracteres consecutivos desde inicio hasta fin-1\n",
        "print(\"c: \",c)\n",
        "d=a[1:9:2] # d inicia en el caracter o de la plabra Hola (índice 1) y termina en el caracter n (índice 7) \n",
        "# d salta caracteres de 2 en 2, por lo tanto, sólo contempla los caracteres 1, 3, 5 y 7. \n",
        "# El caracter final que sería d (índice 8 = fin-1) no es parte de la secuencia, ya que se saltea\n",
        "print(\"d: \",d)\n",
        "e=a[9:2:-1] # e inicia en el caracter o de la plabra Mundo (índice 9) y termina en el caracter a (índice 3) \n",
        "# como salto es negativo, recorre los caracteres desde el final hacia el inicio, inviertiendo, en este caso, la subcadena\n",
        "print(\"e: \",e)"
      ],
      "metadata": {
        "colab": {
          "base_uri": "https://localhost:8080/"
        },
        "id": "IjnEoLWWe7Zg",
        "outputId": "568339ef-6db7-41df-e94b-b333b5048ecc"
      },
      "execution_count": null,
      "outputs": [
        {
          "output_type": "stream",
          "name": "stdout",
          "text": [
            "a:  Hola Mundo\n",
            "b:  la Mu\n",
            "c:  ola Mu\n",
            "d:  oaMn\n",
            "e:  odnuM a\n"
          ]
        }
      ]
    },
    {
      "cell_type": "markdown",
      "source": [
        "Por tratarse de una secuencia se puede iterar sobre cada uno de sus elementos, utilizando un ciclo for."
      ],
      "metadata": {
        "id": "Og7eyu8Cex5K"
      }
    },
    {
      "cell_type": "code",
      "source": [
        "a=\"Hola mundo\"\n",
        "for c in a:\n",
        "  print(c)"
      ],
      "metadata": {
        "colab": {
          "base_uri": "https://localhost:8080/"
        },
        "id": "nWXZDimye4vI",
        "outputId": "9e229bae-bfd1-4724-94f7-7fa9ab0280b0"
      },
      "execution_count": null,
      "outputs": [
        {
          "output_type": "stream",
          "name": "stdout",
          "text": [
            "H\n",
            "o\n",
            "l\n",
            "a\n",
            " \n",
            "m\n",
            "u\n",
            "n\n",
            "d\n",
            "o\n"
          ]
        }
      ]
    },
    {
      "cell_type": "markdown",
      "source": [
        "Además, se puede comprobar si un caracter se encuentra dentro de la cadena a través del operador de pertenencia **in**. \n",
        "\n",
        "Se pueden comparar dos cadenas usando los operardores relacional **==**, **!=**,**<**, **>**, etc."
      ],
      "metadata": {
        "id": "a79_ajZnfMzI"
      }
    },
    {
      "cell_type": "code",
      "source": [
        "a=\"Hola\"\n",
        "b=\"mundo\"\n",
        "print(\"a\" in a) # busca el caracter \"a\" en la cadena a=\"Hola\"\n",
        "print(a==b)"
      ],
      "metadata": {
        "colab": {
          "base_uri": "https://localhost:8080/"
        },
        "id": "5Z8SJifqfhbU",
        "outputId": "cb005433-9176-4ad4-df07-1edbf47af262"
      },
      "execution_count": null,
      "outputs": [
        {
          "output_type": "stream",
          "name": "stdout",
          "text": [
            "True\n",
            "False\n"
          ]
        }
      ]
    }
  ]
}